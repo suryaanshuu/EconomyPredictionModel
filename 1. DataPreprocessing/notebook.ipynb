{
 "cells": [
  {
   "cell_type": "markdown",
   "metadata": {},
   "source": [
    "# 1. Data Preprocessing"
   ]
  },
  {
   "cell_type": "code",
   "execution_count": 76,
   "metadata": {
    "cell_id": "4279843227f64c3d94183e2d565402c9",
    "deepnote_cell_height": 276.984375,
    "deepnote_cell_type": "code",
    "deepnote_to_be_reexecuted": false,
    "execution_millis": 8886,
    "execution_start": 1650727132321,
    "source_hash": "9c1227a1",
    "tags": []
   },
   "outputs": [
    {
     "name": "stdout",
     "output_type": "stream",
     "text": [
      "Requirement already satisfied: openpyxl in d:\\python\\lib\\site-packages (3.1.5)\n",
      "Requirement already satisfied: et-xmlfile in d:\\python\\lib\\site-packages (from openpyxl) (1.1.0)\n"
     ]
    }
   ],
   "source": [
    "# Importing essential libraries\n",
    "import numpy as np\n",
    "import matplotlib.pyplot as plt\n",
    "import seaborn as sb\n",
    "import pandas as pd\n",
    "from datetime import datetime\n",
    "!pip install openpyxl"
   ]
  },
  {
   "cell_type": "code",
   "execution_count": 77,
   "metadata": {
    "cell_id": "96573df98dd44e4f9e3d43cd9958e7c1",
    "deepnote_cell_height": 171.15625,
    "deepnote_cell_type": "code",
    "deepnote_to_be_reexecuted": false,
    "execution_millis": 7,
    "execution_start": 1650727141213,
    "source_hash": "e6f546fb",
    "tags": []
   },
   "outputs": [],
   "source": [
    "# This function cleans a dataframe to change datetime to %Y-%m format\n",
    "def df_dates_monthly(df, Date = 'Date'):\n",
    "    clean_df = df.copy()\n",
    "    clean_df[Date] = pd.to_datetime(clean_df[Date])\n",
    "    clean_df[Date] = clean_df[Date].dt.strftime('%Y-%m')\n",
    "    return clean_df"
   ]
  },
  {
   "cell_type": "code",
   "execution_count": 78,
   "metadata": {
    "cell_id": "9d935bd81322449680fe9021b61bc500",
    "deepnote_cell_height": 171.15625,
    "deepnote_cell_type": "code",
    "deepnote_to_be_reexecuted": false,
    "execution_millis": 34,
    "execution_start": 1650727141234,
    "source_hash": "4e8c81b8",
    "tags": []
   },
   "outputs": [],
   "source": [
    "# This function calculates the ChangePercentMonth and ChangePercentYear\n",
    "def df_change_percent(df, Value = 'Value'):\n",
    "    clean_df = df.copy()\n",
    "    clean_df['ChangePercentMonth'] = round(clean_df[Value].pct_change(),4)\n",
    "    clean_df['ChangePercentYear'] = round(clean_df[Value].pct_change(12),4)\n",
    "    return clean_df"
   ]
  },
  {
   "cell_type": "markdown",
   "metadata": {
    "cell_id": "299e6c5c69084fb18f9c5aef20a07ce6",
    "deepnote_cell_height": 181.65625,
    "deepnote_cell_type": "markdown",
    "tags": []
   },
   "source": [
    "## 1.1. Consumer Price Index (CPI) Data\n",
    "Data source: https://www.bls.gov/cpi/data.htm"
   ]
  },
  {
   "cell_type": "code",
   "execution_count": 79,
   "metadata": {
    "cell_id": "4597f8659f7648149cffc467dc76bc20",
    "deepnote_cell_height": 431.296875,
    "deepnote_cell_type": "code",
    "deepnote_table_loading": false,
    "deepnote_table_state": {
     "filters": [],
     "pageIndex": 131,
     "pageSize": 10,
     "sortBy": []
    },
    "deepnote_to_be_reexecuted": false,
    "execution_millis": 40,
    "execution_start": 1650727141268,
    "source_hash": "23cb5ae4",
    "tags": []
   },
   "outputs": [
    {
     "data": {
      "text/html": [
       "<div>\n",
       "<style scoped>\n",
       "    .dataframe tbody tr th:only-of-type {\n",
       "        vertical-align: middle;\n",
       "    }\n",
       "\n",
       "    .dataframe tbody tr th {\n",
       "        vertical-align: top;\n",
       "    }\n",
       "\n",
       "    .dataframe thead th {\n",
       "        text-align: right;\n",
       "    }\n",
       "</style>\n",
       "<table border=\"1\" class=\"dataframe\">\n",
       "  <thead>\n",
       "    <tr style=\"text-align: right;\">\n",
       "      <th></th>\n",
       "      <th>Date</th>\n",
       "      <th>Value</th>\n",
       "    </tr>\n",
       "  </thead>\n",
       "  <tbody>\n",
       "    <tr>\n",
       "      <th>0</th>\n",
       "      <td>1913-01-01</td>\n",
       "      <td>9.8</td>\n",
       "    </tr>\n",
       "    <tr>\n",
       "      <th>1</th>\n",
       "      <td>1913-02-01</td>\n",
       "      <td>9.8</td>\n",
       "    </tr>\n",
       "    <tr>\n",
       "      <th>2</th>\n",
       "      <td>1913-03-01</td>\n",
       "      <td>9.8</td>\n",
       "    </tr>\n",
       "    <tr>\n",
       "      <th>3</th>\n",
       "      <td>1913-04-01</td>\n",
       "      <td>9.8</td>\n",
       "    </tr>\n",
       "    <tr>\n",
       "      <th>4</th>\n",
       "      <td>1913-05-01</td>\n",
       "      <td>9.7</td>\n",
       "    </tr>\n",
       "  </tbody>\n",
       "</table>\n",
       "</div>"
      ],
      "text/plain": [
       "         Date  Value\n",
       "0  1913-01-01    9.8\n",
       "1  1913-02-01    9.8\n",
       "2  1913-03-01    9.8\n",
       "3  1913-04-01    9.8\n",
       "4  1913-05-01    9.7"
      ]
     },
     "execution_count": 79,
     "metadata": {},
     "output_type": "execute_result"
    }
   ],
   "source": [
    "# Import CPI data and see the head\n",
    "cpi_data = pd.read_csv(\"cpi_monthly_data.csv\")\n",
    "cpi_data.head()"
   ]
  },
  {
   "cell_type": "code",
   "execution_count": 80,
   "metadata": {
    "cell_id": "da79a3bebb2f4bd7b15fcacc3875f53b",
    "deepnote_cell_height": 136.4375,
    "deepnote_cell_type": "code",
    "deepnote_output_heights": [
     21.171875
    ],
    "deepnote_to_be_reexecuted": false,
    "execution_millis": 0,
    "execution_start": 1650727141307,
    "source_hash": "d2a9f7c7",
    "tags": []
   },
   "outputs": [
    {
     "data": {
      "text/plain": [
       "(1311, 2)"
      ]
     },
     "execution_count": 80,
     "metadata": {},
     "output_type": "execute_result"
    }
   ],
   "source": [
    "# Look at the shape of our data\n",
    "cpi_data.shape"
   ]
  },
  {
   "cell_type": "code",
   "execution_count": 81,
   "metadata": {
    "cell_id": "848ca664196f4385b86b0c5dd7bc5243",
    "deepnote_cell_height": 279.15625,
    "deepnote_cell_type": "code",
    "deepnote_to_be_reexecuted": false,
    "execution_millis": 11,
    "execution_start": 1650727141308,
    "source_hash": "641b3ce6",
    "tags": []
   },
   "outputs": [],
   "source": [
    "# Create a copy of the dataset for our lagged CPI predictor\n",
    "lagged_cpi_data = cpi_data.copy()\n",
    "\n",
    "lagged_cpi_data['Date'] = pd.to_datetime(lagged_cpi_data['Date'], format='%Y-%m-%d')\n",
    "\n",
    "# Move all dates by 1 month ahead of time\n",
    "lagged_cpi_data['Date'] = lagged_cpi_data['Date'] + pd.DateOffset(months=1)\n",
    "# Clean data to have date in %Y-%m format\n",
    "lagged_cpi_data_clean = df_dates_monthly(lagged_cpi_data)\n",
    "# Clean data to have monthly and yearly percentage changes\n",
    "lagged_cpi_data_clean = df_change_percent(lagged_cpi_data_clean)\n"
   ]
  },
  {
   "cell_type": "code",
   "execution_count": 82,
   "metadata": {
    "cell_id": "6a2c96e77480441d848ee0f2b8d79309",
    "deepnote_cell_height": 690.234375,
    "deepnote_cell_type": "code",
    "deepnote_to_be_reexecuted": false,
    "execution_millis": 429,
    "execution_start": 1650727141368,
    "source_hash": "ff2f7808",
    "tags": []
   },
   "outputs": [
    {
     "data": {
      "text/html": [
       "<div>\n",
       "<style scoped>\n",
       "    .dataframe tbody tr th:only-of-type {\n",
       "        vertical-align: middle;\n",
       "    }\n",
       "\n",
       "    .dataframe tbody tr th {\n",
       "        vertical-align: top;\n",
       "    }\n",
       "\n",
       "    .dataframe thead th {\n",
       "        text-align: right;\n",
       "    }\n",
       "</style>\n",
       "<table border=\"1\" class=\"dataframe\">\n",
       "  <thead>\n",
       "    <tr style=\"text-align: right;\">\n",
       "      <th></th>\n",
       "      <th>Date</th>\n",
       "      <th>Value</th>\n",
       "      <th>ChangePercentMonth</th>\n",
       "      <th>ChangePercentYear</th>\n",
       "    </tr>\n",
       "  </thead>\n",
       "  <tbody>\n",
       "    <tr>\n",
       "      <th>0</th>\n",
       "      <td>1913-01</td>\n",
       "      <td>9.800</td>\n",
       "      <td>NaN</td>\n",
       "      <td>NaN</td>\n",
       "    </tr>\n",
       "    <tr>\n",
       "      <th>1</th>\n",
       "      <td>1913-02</td>\n",
       "      <td>9.800</td>\n",
       "      <td>0.0000</td>\n",
       "      <td>NaN</td>\n",
       "    </tr>\n",
       "    <tr>\n",
       "      <th>2</th>\n",
       "      <td>1913-03</td>\n",
       "      <td>9.800</td>\n",
       "      <td>0.0000</td>\n",
       "      <td>NaN</td>\n",
       "    </tr>\n",
       "    <tr>\n",
       "      <th>3</th>\n",
       "      <td>1913-04</td>\n",
       "      <td>9.800</td>\n",
       "      <td>0.0000</td>\n",
       "      <td>NaN</td>\n",
       "    </tr>\n",
       "    <tr>\n",
       "      <th>4</th>\n",
       "      <td>1913-05</td>\n",
       "      <td>9.700</td>\n",
       "      <td>-0.0102</td>\n",
       "      <td>NaN</td>\n",
       "    </tr>\n",
       "    <tr>\n",
       "      <th>...</th>\n",
       "      <td>...</td>\n",
       "      <td>...</td>\n",
       "      <td>...</td>\n",
       "      <td>...</td>\n",
       "    </tr>\n",
       "    <tr>\n",
       "      <th>1306</th>\n",
       "      <td>2021-11</td>\n",
       "      <td>277.948</td>\n",
       "      <td>0.0049</td>\n",
       "      <td>0.0681</td>\n",
       "    </tr>\n",
       "    <tr>\n",
       "      <th>1307</th>\n",
       "      <td>2021-12</td>\n",
       "      <td>278.802</td>\n",
       "      <td>0.0031</td>\n",
       "      <td>0.0704</td>\n",
       "    </tr>\n",
       "    <tr>\n",
       "      <th>1308</th>\n",
       "      <td>2022-01</td>\n",
       "      <td>281.148</td>\n",
       "      <td>0.0084</td>\n",
       "      <td>0.0748</td>\n",
       "    </tr>\n",
       "    <tr>\n",
       "      <th>1309</th>\n",
       "      <td>2022-02</td>\n",
       "      <td>283.716</td>\n",
       "      <td>0.0091</td>\n",
       "      <td>0.0787</td>\n",
       "    </tr>\n",
       "    <tr>\n",
       "      <th>1310</th>\n",
       "      <td>2022-03</td>\n",
       "      <td>287.504</td>\n",
       "      <td>0.0134</td>\n",
       "      <td>0.0854</td>\n",
       "    </tr>\n",
       "  </tbody>\n",
       "</table>\n",
       "<p>1311 rows × 4 columns</p>\n",
       "</div>"
      ],
      "text/plain": [
       "         Date    Value  ChangePercentMonth  ChangePercentYear\n",
       "0     1913-01    9.800                 NaN                NaN\n",
       "1     1913-02    9.800              0.0000                NaN\n",
       "2     1913-03    9.800              0.0000                NaN\n",
       "3     1913-04    9.800              0.0000                NaN\n",
       "4     1913-05    9.700             -0.0102                NaN\n",
       "...       ...      ...                 ...                ...\n",
       "1306  2021-11  277.948              0.0049             0.0681\n",
       "1307  2021-12  278.802              0.0031             0.0704\n",
       "1308  2022-01  281.148              0.0084             0.0748\n",
       "1309  2022-02  283.716              0.0091             0.0787\n",
       "1310  2022-03  287.504              0.0134             0.0854\n",
       "\n",
       "[1311 rows x 4 columns]"
      ]
     },
     "execution_count": 82,
     "metadata": {},
     "output_type": "execute_result"
    }
   ],
   "source": [
    "# Clean data to have date in %Y-%m format\n",
    "cpi_data_clean = df_dates_monthly(cpi_data)\n",
    "# Clean data to have monthly and yearly percentage changes\n",
    "cpi_data_clean = df_change_percent(cpi_data_clean)\n",
    "# Show cleaned data\n",
    "cpi_data_clean"
   ]
  },
  {
   "cell_type": "code",
   "execution_count": 83,
   "metadata": {},
   "outputs": [
    {
     "name": "stderr",
     "output_type": "stream",
     "text": [
      "C:\\Users\\Suryanshu Choudhary\\AppData\\Local\\Temp\\ipykernel_9564\\2124847074.py:1: FutureWarning: DataFrame.fillna with 'method' is deprecated and will raise in a future version. Use obj.ffill() or obj.bfill() instead.\n",
      "  cpi_data_clean = cpi_data_clean.fillna(method='bfill')\n"
     ]
    }
   ],
   "source": [
    "cpi_data_clean = cpi_data_clean.fillna(method='bfill')"
   ]
  },
  {
   "cell_type": "code",
   "execution_count": 84,
   "metadata": {},
   "outputs": [
    {
     "data": {
      "text/plain": [
       "0"
      ]
     },
     "execution_count": 84,
     "metadata": {},
     "output_type": "execute_result"
    }
   ],
   "source": [
    "cpi_data_clean.isnull().sum().sum()"
   ]
  },
  {
   "cell_type": "code",
   "execution_count": 85,
   "metadata": {},
   "outputs": [
    {
     "data": {
      "text/html": [
       "<div>\n",
       "<style scoped>\n",
       "    .dataframe tbody tr th:only-of-type {\n",
       "        vertical-align: middle;\n",
       "    }\n",
       "\n",
       "    .dataframe tbody tr th {\n",
       "        vertical-align: top;\n",
       "    }\n",
       "\n",
       "    .dataframe thead th {\n",
       "        text-align: right;\n",
       "    }\n",
       "</style>\n",
       "<table border=\"1\" class=\"dataframe\">\n",
       "  <thead>\n",
       "    <tr style=\"text-align: right;\">\n",
       "      <th></th>\n",
       "      <th>Date</th>\n",
       "      <th>Value</th>\n",
       "      <th>ChangePercentMonth</th>\n",
       "      <th>ChangePercentYear</th>\n",
       "    </tr>\n",
       "  </thead>\n",
       "  <tbody>\n",
       "    <tr>\n",
       "      <th>0</th>\n",
       "      <td>1913-01</td>\n",
       "      <td>9.800</td>\n",
       "      <td>0.0000</td>\n",
       "      <td>0.0204</td>\n",
       "    </tr>\n",
       "    <tr>\n",
       "      <th>1</th>\n",
       "      <td>1913-02</td>\n",
       "      <td>9.800</td>\n",
       "      <td>0.0000</td>\n",
       "      <td>0.0204</td>\n",
       "    </tr>\n",
       "    <tr>\n",
       "      <th>2</th>\n",
       "      <td>1913-03</td>\n",
       "      <td>9.800</td>\n",
       "      <td>0.0000</td>\n",
       "      <td>0.0204</td>\n",
       "    </tr>\n",
       "    <tr>\n",
       "      <th>3</th>\n",
       "      <td>1913-04</td>\n",
       "      <td>9.800</td>\n",
       "      <td>0.0000</td>\n",
       "      <td>0.0204</td>\n",
       "    </tr>\n",
       "    <tr>\n",
       "      <th>4</th>\n",
       "      <td>1913-05</td>\n",
       "      <td>9.700</td>\n",
       "      <td>-0.0102</td>\n",
       "      <td>0.0204</td>\n",
       "    </tr>\n",
       "    <tr>\n",
       "      <th>...</th>\n",
       "      <td>...</td>\n",
       "      <td>...</td>\n",
       "      <td>...</td>\n",
       "      <td>...</td>\n",
       "    </tr>\n",
       "    <tr>\n",
       "      <th>1306</th>\n",
       "      <td>2021-11</td>\n",
       "      <td>277.948</td>\n",
       "      <td>0.0049</td>\n",
       "      <td>0.0681</td>\n",
       "    </tr>\n",
       "    <tr>\n",
       "      <th>1307</th>\n",
       "      <td>2021-12</td>\n",
       "      <td>278.802</td>\n",
       "      <td>0.0031</td>\n",
       "      <td>0.0704</td>\n",
       "    </tr>\n",
       "    <tr>\n",
       "      <th>1308</th>\n",
       "      <td>2022-01</td>\n",
       "      <td>281.148</td>\n",
       "      <td>0.0084</td>\n",
       "      <td>0.0748</td>\n",
       "    </tr>\n",
       "    <tr>\n",
       "      <th>1309</th>\n",
       "      <td>2022-02</td>\n",
       "      <td>283.716</td>\n",
       "      <td>0.0091</td>\n",
       "      <td>0.0787</td>\n",
       "    </tr>\n",
       "    <tr>\n",
       "      <th>1310</th>\n",
       "      <td>2022-03</td>\n",
       "      <td>287.504</td>\n",
       "      <td>0.0134</td>\n",
       "      <td>0.0854</td>\n",
       "    </tr>\n",
       "  </tbody>\n",
       "</table>\n",
       "<p>1311 rows × 4 columns</p>\n",
       "</div>"
      ],
      "text/plain": [
       "         Date    Value  ChangePercentMonth  ChangePercentYear\n",
       "0     1913-01    9.800              0.0000             0.0204\n",
       "1     1913-02    9.800              0.0000             0.0204\n",
       "2     1913-03    9.800              0.0000             0.0204\n",
       "3     1913-04    9.800              0.0000             0.0204\n",
       "4     1913-05    9.700             -0.0102             0.0204\n",
       "...       ...      ...                 ...                ...\n",
       "1306  2021-11  277.948              0.0049             0.0681\n",
       "1307  2021-12  278.802              0.0031             0.0704\n",
       "1308  2022-01  281.148              0.0084             0.0748\n",
       "1309  2022-02  283.716              0.0091             0.0787\n",
       "1310  2022-03  287.504              0.0134             0.0854\n",
       "\n",
       "[1311 rows x 4 columns]"
      ]
     },
     "execution_count": 85,
     "metadata": {},
     "output_type": "execute_result"
    }
   ],
   "source": [
    "cpi_data_clean"
   ]
  },
  {
   "cell_type": "code",
   "execution_count": 86,
   "metadata": {},
   "outputs": [
    {
     "data": {
      "text/plain": [
       "Date                  0\n",
       "Value                 0\n",
       "ChangePercentMonth    0\n",
       "ChangePercentYear     0\n",
       "dtype: int64"
      ]
     },
     "execution_count": 86,
     "metadata": {},
     "output_type": "execute_result"
    }
   ],
   "source": [
    "cpi_data_clean.isna().sum()"
   ]
  },
  {
   "cell_type": "code",
   "execution_count": 87,
   "metadata": {},
   "outputs": [
    {
     "data": {
      "image/png": "[encoded data removed]",
      "text/plain": [
       "<Figure size 640x480 with 1 Axes>"
      ]
     },
     "metadata": {},
     "output_type": "display_data"
    }
   ],
   "source": [
    "# BoxPlot\n",
    "plt.boxplot(cpi_data_clean['ChangePercentYear'])\n",
    "# plt.boxplot(cpi_data_clean)\n",
    "plt.show()"
   ]
  },
  {
   "cell_type": "code",
   "execution_count": 88,
   "metadata": {
    "cell_id": "0f2319ac20374a85b3b614126aaeb57f",
    "deepnote_cell_height": 739.734375,
    "deepnote_cell_type": "code",
    "deepnote_output_heights": [
     570.453125
    ],
    "deepnote_to_be_reexecuted": false,
    "execution_millis": 644,
    "execution_start": 1650727141399,
    "source_hash": "4fd01372",
    "tags": []
   },
   "outputs": [
    {
     "data": {
      "image/png": "[encoded data removed]",
      "text/plain": [
       "<Figure size 1500x1000 with 1 Axes>"
      ]
     },
     "metadata": {},
     "output_type": "display_data"
    }
   ],
   "source": [
    "# Plot CPI time series graph\n",
    "plt.figure(figsize=(15,10))\n",
    "plt.xticks(np.arange(0, 2000, 120)) # show x-axis ticks at every 10 years\n",
    "plt.plot(cpi_data_clean['Date'], cpi_data_clean['Value'])\n",
    "plt.show()"
   ]
  },
  {
   "cell_type": "markdown",
   "metadata": {
    "cell_id": "9ca7ceec0bd2410abf5c2531f00dc426",
    "deepnote_cell_height": 321.53125,
    "deepnote_cell_type": "markdown",
    "tags": []
   },
   "source": [
    "## 1.2. Business Inflation Expectation (BIE) Data\n",
    "Data source: https://www.atlantafed.org/research/inflationproject/bie.aspx\n"
   ]
  },
  {
   "cell_type": "code",
   "execution_count": 89,
   "metadata": {
    "cell_id": "b5b035f878104e3a99473fa697bcab3c",
    "deepnote_cell_height": 449.296875,
    "deepnote_cell_type": "code",
    "deepnote_to_be_reexecuted": false,
    "execution_millis": 399,
    "execution_start": 1650727141999,
    "source_hash": "4cfb3312",
    "tags": []
   },
   "outputs": [
    {
     "data": {
      "text/html": [
       "<div>\n",
       "<style scoped>\n",
       "    .dataframe tbody tr th:only-of-type {\n",
       "        vertical-align: middle;\n",
       "    }\n",
       "\n",
       "    .dataframe tbody tr th {\n",
       "        vertical-align: top;\n",
       "    }\n",
       "\n",
       "    .dataframe thead th {\n",
       "        text-align: right;\n",
       "    }\n",
       "</style>\n",
       "<table border=\"1\" class=\"dataframe\">\n",
       "  <thead>\n",
       "    <tr style=\"text-align: right;\">\n",
       "      <th></th>\n",
       "      <th>Date</th>\n",
       "      <th>Value</th>\n",
       "    </tr>\n",
       "  </thead>\n",
       "  <tbody>\n",
       "    <tr>\n",
       "      <th>0</th>\n",
       "      <td>2011-10-21</td>\n",
       "      <td>0.019269</td>\n",
       "    </tr>\n",
       "    <tr>\n",
       "      <th>1</th>\n",
       "      <td>2011-11-18</td>\n",
       "      <td>0.020115</td>\n",
       "    </tr>\n",
       "    <tr>\n",
       "      <th>2</th>\n",
       "      <td>2011-12-16</td>\n",
       "      <td>0.018592</td>\n",
       "    </tr>\n",
       "    <tr>\n",
       "      <th>3</th>\n",
       "      <td>2012-01-20</td>\n",
       "      <td>0.018283</td>\n",
       "    </tr>\n",
       "    <tr>\n",
       "      <th>4</th>\n",
       "      <td>2012-02-17</td>\n",
       "      <td>0.018718</td>\n",
       "    </tr>\n",
       "  </tbody>\n",
       "</table>\n",
       "</div>"
      ],
      "text/plain": [
       "        Date     Value\n",
       "0 2011-10-21  0.019269\n",
       "1 2011-11-18  0.020115\n",
       "2 2011-12-16  0.018592\n",
       "3 2012-01-20  0.018283\n",
       "4 2012-02-17  0.018718"
      ]
     },
     "execution_count": 89,
     "metadata": {},
     "output_type": "execute_result"
    }
   ],
   "source": [
    "# Import BIE data and see the head\n",
    "bie_data = pd.read_excel(\"FedBankOfAtlantaBIE.xlsx\")\n",
    "bie_data.columns = ['Date', 'Value']\n",
    "bie_data.head()"
   ]
  },
  {
   "cell_type": "code",
   "execution_count": 90,
   "metadata": {
    "cell_id": "21722d0afaec4296b8e4fb551a474ffb",
    "deepnote_cell_height": 136.4375,
    "deepnote_cell_type": "code",
    "deepnote_output_heights": [
     21.171875
    ],
    "deepnote_to_be_reexecuted": false,
    "execution_millis": 22,
    "execution_start": 1650727142400,
    "source_hash": "7054458f",
    "tags": []
   },
   "outputs": [
    {
     "data": {
      "text/plain": [
       "(127, 2)"
      ]
     },
     "execution_count": 90,
     "metadata": {},
     "output_type": "execute_result"
    }
   ],
   "source": [
    "# Look at the shape of our data\n",
    "bie_data.shape"
   ]
  },
  {
   "cell_type": "code",
   "execution_count": 91,
   "metadata": {
    "cell_id": "a3e82eee391a415c8045ba4a3c26168b",
    "deepnote_cell_height": 99.15625,
    "deepnote_cell_type": "code",
    "deepnote_to_be_reexecuted": false,
    "execution_millis": 11,
    "execution_start": 1650727142431,
    "source_hash": "90deaf5d",
    "tags": []
   },
   "outputs": [],
   "source": [
    "# Since this data looks ahead 1 year at inflation, we need to bring the dates forward by 1 year as well\n",
    "bie_data['Date'] = bie_data['Date'] + pd.DateOffset(months=12)"
   ]
  },
  {
   "cell_type": "code",
   "execution_count": 92,
   "metadata": {
    "cell_id": "153678ad92a2479a9fa7dcc5d1bec221",
    "deepnote_cell_height": 816.25,
    "deepnote_cell_type": "code",
    "deepnote_table_loading": false,
    "deepnote_table_state": {
     "filters": [],
     "pageIndex": 0,
     "pageSize": 10,
     "sortBy": []
    },
    "deepnote_to_be_reexecuted": false,
    "execution_millis": 120,
    "execution_start": 1650727142446,
    "source_hash": "b033ffef",
    "tags": []
   },
   "outputs": [
    {
     "data": {
      "text/html": [
       "<div>\n",
       "<style scoped>\n",
       "    .dataframe tbody tr th:only-of-type {\n",
       "        vertical-align: middle;\n",
       "    }\n",
       "\n",
       "    .dataframe tbody tr th {\n",
       "        vertical-align: top;\n",
       "    }\n",
       "\n",
       "    .dataframe thead th {\n",
       "        text-align: right;\n",
       "    }\n",
       "</style>\n",
       "<table border=\"1\" class=\"dataframe\">\n",
       "  <thead>\n",
       "    <tr style=\"text-align: right;\">\n",
       "      <th></th>\n",
       "      <th>Date</th>\n",
       "      <th>Value</th>\n",
       "      <th>ChangePercentMonth</th>\n",
       "      <th>ChangePercentYear</th>\n",
       "    </tr>\n",
       "  </thead>\n",
       "  <tbody>\n",
       "    <tr>\n",
       "      <th>0</th>\n",
       "      <td>2012-10</td>\n",
       "      <td>0.0193</td>\n",
       "      <td>NaN</td>\n",
       "      <td>NaN</td>\n",
       "    </tr>\n",
       "    <tr>\n",
       "      <th>1</th>\n",
       "      <td>2012-11</td>\n",
       "      <td>0.0201</td>\n",
       "      <td>0.0415</td>\n",
       "      <td>NaN</td>\n",
       "    </tr>\n",
       "    <tr>\n",
       "      <th>2</th>\n",
       "      <td>2012-12</td>\n",
       "      <td>0.0186</td>\n",
       "      <td>-0.0746</td>\n",
       "      <td>NaN</td>\n",
       "    </tr>\n",
       "    <tr>\n",
       "      <th>3</th>\n",
       "      <td>2013-01</td>\n",
       "      <td>0.0183</td>\n",
       "      <td>-0.0161</td>\n",
       "      <td>NaN</td>\n",
       "    </tr>\n",
       "    <tr>\n",
       "      <th>4</th>\n",
       "      <td>2013-02</td>\n",
       "      <td>0.0187</td>\n",
       "      <td>0.0219</td>\n",
       "      <td>NaN</td>\n",
       "    </tr>\n",
       "    <tr>\n",
       "      <th>...</th>\n",
       "      <td>...</td>\n",
       "      <td>...</td>\n",
       "      <td>...</td>\n",
       "      <td>...</td>\n",
       "    </tr>\n",
       "    <tr>\n",
       "      <th>122</th>\n",
       "      <td>2022-12</td>\n",
       "      <td>0.0342</td>\n",
       "      <td>0.0395</td>\n",
       "      <td>0.7273</td>\n",
       "    </tr>\n",
       "    <tr>\n",
       "      <th>123</th>\n",
       "      <td>2023-01</td>\n",
       "      <td>0.0338</td>\n",
       "      <td>-0.0117</td>\n",
       "      <td>0.5434</td>\n",
       "    </tr>\n",
       "    <tr>\n",
       "      <th>124</th>\n",
       "      <td>2023-02</td>\n",
       "      <td>0.0356</td>\n",
       "      <td>0.0533</td>\n",
       "      <td>0.6330</td>\n",
       "    </tr>\n",
       "    <tr>\n",
       "      <th>125</th>\n",
       "      <td>2023-03</td>\n",
       "      <td>0.0378</td>\n",
       "      <td>0.0618</td>\n",
       "      <td>0.5816</td>\n",
       "    </tr>\n",
       "    <tr>\n",
       "      <th>126</th>\n",
       "      <td>2023-04</td>\n",
       "      <td>0.0379</td>\n",
       "      <td>0.0026</td>\n",
       "      <td>0.4980</td>\n",
       "    </tr>\n",
       "  </tbody>\n",
       "</table>\n",
       "<p>127 rows × 4 columns</p>\n",
       "</div>"
      ],
      "text/plain": [
       "        Date   Value  ChangePercentMonth  ChangePercentYear\n",
       "0    2012-10  0.0193                 NaN                NaN\n",
       "1    2012-11  0.0201              0.0415                NaN\n",
       "2    2012-12  0.0186             -0.0746                NaN\n",
       "3    2013-01  0.0183             -0.0161                NaN\n",
       "4    2013-02  0.0187              0.0219                NaN\n",
       "..       ...     ...                 ...                ...\n",
       "122  2022-12  0.0342              0.0395             0.7273\n",
       "123  2023-01  0.0338             -0.0117             0.5434\n",
       "124  2023-02  0.0356              0.0533             0.6330\n",
       "125  2023-03  0.0378              0.0618             0.5816\n",
       "126  2023-04  0.0379              0.0026             0.4980\n",
       "\n",
       "[127 rows x 4 columns]"
      ]
     },
     "execution_count": 92,
     "metadata": {},
     "output_type": "execute_result"
    }
   ],
   "source": [
    "# Clean BIE data by rounding Value\n",
    "bie_data['Value'] = round(bie_data['Value'],4)\n",
    "# Clean data to have date in %Y-%m format\n",
    "bie_clean = df_dates_monthly(bie_data)\n",
    "# Clean data to have monthly and yearly percentage changes\n",
    "bie_clean = df_change_percent(bie_clean)\n",
    "# Show cleaned data\n",
    "bie_clean\n",
    "\n",
    "# Calculate month on month and year on year percentage changes\n",
    "bie_clean['ChangePercentMonth'] = round(bie_clean['Value'].pct_change(),4)\n",
    "bie_clean['ChangePercentYear'] = round(bie_clean['Value'].pct_change(12),4)\n",
    "bie_clean"
   ]
  },
  {
   "cell_type": "code",
   "execution_count": 93,
   "metadata": {},
   "outputs": [
    {
     "name": "stderr",
     "output_type": "stream",
     "text": [
      "C:\\Users\\Suryanshu Choudhary\\AppData\\Local\\Temp\\ipykernel_9564\\4221877770.py:1: FutureWarning: DataFrame.fillna with 'method' is deprecated and will raise in a future version. Use obj.ffill() or obj.bfill() instead.\n",
      "  bie_clean = bie_clean.fillna(method='bfill')\n"
     ]
    }
   ],
   "source": [
    "bie_clean = bie_clean.fillna(method='bfill')"
   ]
  },
  {
   "cell_type": "code",
   "execution_count": 94,
   "metadata": {},
   "outputs": [
    {
     "data": {
      "text/plain": [
       "0"
      ]
     },
     "execution_count": 94,
     "metadata": {},
     "output_type": "execute_result"
    }
   ],
   "source": [
    "bie_clean.isnull().sum().sum()"
   ]
  },
  {
   "cell_type": "code",
   "execution_count": 95,
   "metadata": {
    "cell_id": "6eaf3105ea4948aca0459cd6c88ba356",
    "deepnote_cell_height": 767.25,
    "deepnote_cell_type": "code",
    "deepnote_output_heights": [
     21.171875,
     563.703125
    ],
    "deepnote_to_be_reexecuted": false,
    "execution_millis": 641,
    "execution_start": 1650727142568,
    "source_hash": "9a8a04ea",
    "tags": []
   },
   "outputs": [
    {
     "data": {
      "text/plain": [
       "[<matplotlib.lines.Line2D at 0x1c4c6eab020>]"
      ]
     },
     "execution_count": 95,
     "metadata": {},
     "output_type": "execute_result"
    },
    {
     "data": {
      "image/png": "[encoded data removed]",
      "text/plain": [
       "<Figure size 1500x1000 with 1 Axes>"
      ]
     },
     "metadata": {},
     "output_type": "display_data"
    }
   ],
   "source": [
    "# Plot BIE time series graph\n",
    "plt.figure(figsize=(15,10))\n",
    "plt.xticks(np.arange(0, 2000, 12)) # show x-axis ticks at every 1 year\n",
    "plt.plot(bie_clean['Date'], bie_clean['Value'])"
   ]
  },
  {
   "cell_type": "markdown",
   "metadata": {
    "cell_id": "4da3bdfb63e6491c8d19c52f020996ff",
    "deepnote_cell_height": 159.28125,
    "deepnote_cell_type": "markdown",
    "tags": []
   },
   "source": [
    "## 1.3. Oil Price Data\n",
    "Data source: https://tradingeconomics.com/commodity/crude-oil"
   ]
  },
  {
   "cell_type": "code",
   "execution_count": 96,
   "metadata": {
    "cell_id": "001895f7465642a79d438b484613c2fc",
    "deepnote_cell_height": 636.25,
    "deepnote_cell_type": "code",
    "deepnote_table_loading": false,
    "deepnote_table_state": {
     "filters": [],
     "pageIndex": 0,
     "pageSize": 10,
     "sortBy": []
    },
    "deepnote_to_be_reexecuted": false,
    "execution_millis": 32,
    "execution_start": 1650727143269,
    "source_hash": "22d03919",
    "tags": []
   },
   "outputs": [
    {
     "data": {
      "text/html": [
       "<div>\n",
       "<style scoped>\n",
       "    .dataframe tbody tr th:only-of-type {\n",
       "        vertical-align: middle;\n",
       "    }\n",
       "\n",
       "    .dataframe tbody tr th {\n",
       "        vertical-align: top;\n",
       "    }\n",
       "\n",
       "    .dataframe thead th {\n",
       "        text-align: right;\n",
       "    }\n",
       "</style>\n",
       "<table border=\"1\" class=\"dataframe\">\n",
       "  <thead>\n",
       "    <tr style=\"text-align: right;\">\n",
       "      <th></th>\n",
       "      <th>date</th>\n",
       "      <th>price</th>\n",
       "      <th>percentChange</th>\n",
       "      <th>change</th>\n",
       "    </tr>\n",
       "  </thead>\n",
       "  <tbody>\n",
       "    <tr>\n",
       "      <th>0</th>\n",
       "      <td>1983-03-30T00:00:00</td>\n",
       "      <td>29.27</td>\n",
       "      <td>NaN</td>\n",
       "      <td>NaN</td>\n",
       "    </tr>\n",
       "    <tr>\n",
       "      <th>1</th>\n",
       "      <td>1983-04-04T00:00:00</td>\n",
       "      <td>30.63</td>\n",
       "      <td>4.646396</td>\n",
       "      <td>1.36</td>\n",
       "    </tr>\n",
       "    <tr>\n",
       "      <th>2</th>\n",
       "      <td>1983-05-02T00:00:00</td>\n",
       "      <td>30.25</td>\n",
       "      <td>-1.240614</td>\n",
       "      <td>-0.38</td>\n",
       "    </tr>\n",
       "    <tr>\n",
       "      <th>3</th>\n",
       "      <td>1983-06-01T00:00:00</td>\n",
       "      <td>31.38</td>\n",
       "      <td>3.735537</td>\n",
       "      <td>1.13</td>\n",
       "    </tr>\n",
       "    <tr>\n",
       "      <th>4</th>\n",
       "      <td>1983-07-01T00:00:00</td>\n",
       "      <td>32.00</td>\n",
       "      <td>1.975781</td>\n",
       "      <td>0.62</td>\n",
       "    </tr>\n",
       "    <tr>\n",
       "      <th>...</th>\n",
       "      <td>...</td>\n",
       "      <td>...</td>\n",
       "      <td>...</td>\n",
       "      <td>...</td>\n",
       "    </tr>\n",
       "    <tr>\n",
       "      <th>464</th>\n",
       "      <td>2021-11-01T00:00:00</td>\n",
       "      <td>65.85</td>\n",
       "      <td>-19.479090</td>\n",
       "      <td>-15.93</td>\n",
       "    </tr>\n",
       "    <tr>\n",
       "      <th>465</th>\n",
       "      <td>2021-12-01T00:00:00</td>\n",
       "      <td>74.88</td>\n",
       "      <td>13.712984</td>\n",
       "      <td>9.03</td>\n",
       "    </tr>\n",
       "    <tr>\n",
       "      <th>466</th>\n",
       "      <td>2022-01-03T00:00:00</td>\n",
       "      <td>86.49</td>\n",
       "      <td>15.504808</td>\n",
       "      <td>11.61</td>\n",
       "    </tr>\n",
       "    <tr>\n",
       "      <th>467</th>\n",
       "      <td>2022-02-01T00:00:00</td>\n",
       "      <td>93.50</td>\n",
       "      <td>8.104983</td>\n",
       "      <td>7.01</td>\n",
       "    </tr>\n",
       "    <tr>\n",
       "      <th>468</th>\n",
       "      <td>2022-03-01T00:00:00</td>\n",
       "      <td>107.82</td>\n",
       "      <td>15.315508</td>\n",
       "      <td>14.32</td>\n",
       "    </tr>\n",
       "  </tbody>\n",
       "</table>\n",
       "<p>469 rows × 4 columns</p>\n",
       "</div>"
      ],
      "text/plain": [
       "                    date   price  percentChange  change\n",
       "0    1983-03-30T00:00:00   29.27            NaN     NaN\n",
       "1    1983-04-04T00:00:00   30.63       4.646396    1.36\n",
       "2    1983-05-02T00:00:00   30.25      -1.240614   -0.38\n",
       "3    1983-06-01T00:00:00   31.38       3.735537    1.13\n",
       "4    1983-07-01T00:00:00   32.00       1.975781    0.62\n",
       "..                   ...     ...            ...     ...\n",
       "464  2021-11-01T00:00:00   65.85     -19.479090  -15.93\n",
       "465  2021-12-01T00:00:00   74.88      13.712984    9.03\n",
       "466  2022-01-03T00:00:00   86.49      15.504808   11.61\n",
       "467  2022-02-01T00:00:00   93.50       8.104983    7.01\n",
       "468  2022-03-01T00:00:00  107.82      15.315508   14.32\n",
       "\n",
       "[469 rows x 4 columns]"
      ]
     },
     "execution_count": 96,
     "metadata": {},
     "output_type": "execute_result"
    }
   ],
   "source": [
    "# Import oil price data and see the head\n",
    "oil_pd = pd.read_csv(\"crude-oil-price.csv\")\n",
    "oil_pd"
   ]
  },
  {
   "cell_type": "code",
   "execution_count": 97,
   "metadata": {
    "cell_id": "d8b6ec7db0c3440eb823669a164d54fc",
    "deepnote_cell_height": 136.4375,
    "deepnote_cell_type": "code",
    "deepnote_output_heights": [
     21.171875
    ],
    "deepnote_to_be_reexecuted": false,
    "execution_millis": 13,
    "execution_start": 1650727143310,
    "source_hash": "6f791291",
    "tags": []
   },
   "outputs": [
    {
     "data": {
      "text/plain": [
       "(469, 4)"
      ]
     },
     "execution_count": 97,
     "metadata": {},
     "output_type": "execute_result"
    }
   ],
   "source": [
    "# Look at the shape of our data\n",
    "oil_pd.shape"
   ]
  },
  {
   "cell_type": "code",
   "execution_count": 98,
   "metadata": {
    "cell_id": "4300b066b408434ea9c9b3a9215f5950",
    "deepnote_cell_height": 708.234375,
    "deepnote_cell_type": "code",
    "deepnote_to_be_reexecuted": false,
    "execution_millis": 71,
    "execution_start": 1650727143330,
    "source_hash": "90bc6996",
    "tags": []
   },
   "outputs": [
    {
     "data": {
      "text/html": [
       "<div>\n",
       "<style scoped>\n",
       "    .dataframe tbody tr th:only-of-type {\n",
       "        vertical-align: middle;\n",
       "    }\n",
       "\n",
       "    .dataframe tbody tr th {\n",
       "        vertical-align: top;\n",
       "    }\n",
       "\n",
       "    .dataframe thead th {\n",
       "        text-align: right;\n",
       "    }\n",
       "</style>\n",
       "<table border=\"1\" class=\"dataframe\">\n",
       "  <thead>\n",
       "    <tr style=\"text-align: right;\">\n",
       "      <th></th>\n",
       "      <th>Date</th>\n",
       "      <th>Value</th>\n",
       "      <th>ChangePercentMonth</th>\n",
       "      <th>ChangePercentYear</th>\n",
       "    </tr>\n",
       "  </thead>\n",
       "  <tbody>\n",
       "    <tr>\n",
       "      <th>0</th>\n",
       "      <td>1983-03</td>\n",
       "      <td>29.27</td>\n",
       "      <td>NaN</td>\n",
       "      <td>NaN</td>\n",
       "    </tr>\n",
       "    <tr>\n",
       "      <th>1</th>\n",
       "      <td>1983-04</td>\n",
       "      <td>30.63</td>\n",
       "      <td>0.0465</td>\n",
       "      <td>NaN</td>\n",
       "    </tr>\n",
       "    <tr>\n",
       "      <th>2</th>\n",
       "      <td>1983-05</td>\n",
       "      <td>30.25</td>\n",
       "      <td>-0.0124</td>\n",
       "      <td>NaN</td>\n",
       "    </tr>\n",
       "    <tr>\n",
       "      <th>3</th>\n",
       "      <td>1983-06</td>\n",
       "      <td>31.38</td>\n",
       "      <td>0.0374</td>\n",
       "      <td>NaN</td>\n",
       "    </tr>\n",
       "    <tr>\n",
       "      <th>4</th>\n",
       "      <td>1983-07</td>\n",
       "      <td>32.00</td>\n",
       "      <td>0.0198</td>\n",
       "      <td>NaN</td>\n",
       "    </tr>\n",
       "    <tr>\n",
       "      <th>...</th>\n",
       "      <td>...</td>\n",
       "      <td>...</td>\n",
       "      <td>...</td>\n",
       "      <td>...</td>\n",
       "    </tr>\n",
       "    <tr>\n",
       "      <th>464</th>\n",
       "      <td>2021-11</td>\n",
       "      <td>65.85</td>\n",
       "      <td>-0.1948</td>\n",
       "      <td>0.4524</td>\n",
       "    </tr>\n",
       "    <tr>\n",
       "      <th>465</th>\n",
       "      <td>2021-12</td>\n",
       "      <td>74.88</td>\n",
       "      <td>0.1371</td>\n",
       "      <td>0.5433</td>\n",
       "    </tr>\n",
       "    <tr>\n",
       "      <th>466</th>\n",
       "      <td>2022-01</td>\n",
       "      <td>86.49</td>\n",
       "      <td>0.1550</td>\n",
       "      <td>0.6569</td>\n",
       "    </tr>\n",
       "    <tr>\n",
       "      <th>467</th>\n",
       "      <td>2022-02</td>\n",
       "      <td>93.50</td>\n",
       "      <td>0.0810</td>\n",
       "      <td>0.5203</td>\n",
       "    </tr>\n",
       "    <tr>\n",
       "      <th>468</th>\n",
       "      <td>2022-03</td>\n",
       "      <td>107.82</td>\n",
       "      <td>0.1532</td>\n",
       "      <td>0.8225</td>\n",
       "    </tr>\n",
       "  </tbody>\n",
       "</table>\n",
       "<p>469 rows × 4 columns</p>\n",
       "</div>"
      ],
      "text/plain": [
       "        Date   Value  ChangePercentMonth  ChangePercentYear\n",
       "0    1983-03   29.27                 NaN                NaN\n",
       "1    1983-04   30.63              0.0465                NaN\n",
       "2    1983-05   30.25             -0.0124                NaN\n",
       "3    1983-06   31.38              0.0374                NaN\n",
       "4    1983-07   32.00              0.0198                NaN\n",
       "..       ...     ...                 ...                ...\n",
       "464  2021-11   65.85             -0.1948             0.4524\n",
       "465  2021-12   74.88              0.1371             0.5433\n",
       "466  2022-01   86.49              0.1550             0.6569\n",
       "467  2022-02   93.50              0.0810             0.5203\n",
       "468  2022-03  107.82              0.1532             0.8225\n",
       "\n",
       "[469 rows x 4 columns]"
      ]
     },
     "execution_count": 98,
     "metadata": {},
     "output_type": "execute_result"
    }
   ],
   "source": [
    "# Clean data to have date in %Y-%m format\n",
    "oil_clean = pd.DataFrame(df_dates_monthly(oil_pd,'date')[['date', 'price']])\n",
    "oil_clean.columns = ['Date', 'Value']\n",
    "# Clean data to have monthly and yearly percentage changes\n",
    "oil_clean = df_change_percent(oil_clean)\n",
    "# Show cleaned data\n",
    "oil_clean"
   ]
  },
  {
   "cell_type": "code",
   "execution_count": 99,
   "metadata": {},
   "outputs": [
    {
     "name": "stderr",
     "output_type": "stream",
     "text": [
      "C:\\Users\\Suryanshu Choudhary\\AppData\\Local\\Temp\\ipykernel_9564\\683988030.py:1: FutureWarning: DataFrame.fillna with 'method' is deprecated and will raise in a future version. Use obj.ffill() or obj.bfill() instead.\n",
      "  oil_clean = oil_clean.fillna(method='bfill')\n"
     ]
    }
   ],
   "source": [
    "oil_clean = oil_clean.fillna(method='bfill')"
   ]
  },
  {
   "cell_type": "code",
   "execution_count": 100,
   "metadata": {},
   "outputs": [
    {
     "data": {
      "text/plain": [
       "0"
      ]
     },
     "execution_count": 100,
     "metadata": {},
     "output_type": "execute_result"
    }
   ],
   "source": [
    "oil_clean.isna().sum().sum()"
   ]
  },
  {
   "cell_type": "code",
   "execution_count": 101,
   "metadata": {
    "cell_id": "9c0013ac861a454b8877c43d8ab29d81",
    "deepnote_cell_height": 773.015625,
    "deepnote_cell_type": "code",
    "deepnote_output_heights": [
     21.171875,
     569.46875
    ],
    "deepnote_to_be_reexecuted": false,
    "execution_millis": 473,
    "execution_start": 1650727143402,
    "source_hash": "6690737a",
    "tags": []
   },
   "outputs": [
    {
     "data": {
      "text/plain": [
       "[<matplotlib.lines.Line2D at 0x1c4c9ecc7d0>]"
      ]
     },
     "execution_count": 101,
     "metadata": {},
     "output_type": "execute_result"
    },
    {
     "data": {
      "image/png": "[encoded data removed]",
      "text/plain": [
       "<Figure size 1500x1000 with 1 Axes>"
      ]
     },
     "metadata": {},
     "output_type": "display_data"
    }
   ],
   "source": [
    "# Plot oil price time series graph\n",
    "plt.figure(figsize=(15,10))\n",
    "plt.xticks(np.arange(0, 2000, 60)) # show x-axis ticks at every 5 years\n",
    "plt.plot(oil_clean['Date'], oil_clean['Value'])"
   ]
  },
  {
   "cell_type": "markdown",
   "metadata": {
    "cell_id": "c489613a459940e182531f0a93a74f2d",
    "deepnote_cell_height": 218.03125,
    "deepnote_cell_type": "markdown",
    "tags": []
   },
   "source": [
    "## 1.4. Producer Price Index (PPI) Data\n",
    "Data source: https://fred.stlouisfed.org/series/PPIACO"
   ]
  },
  {
   "cell_type": "code",
   "execution_count": 102,
   "metadata": {
    "cell_id": "617f62d9072f43d9ba096390591ebe95",
    "deepnote_cell_height": 449.296875,
    "deepnote_cell_type": "code",
    "deepnote_table_loading": false,
    "deepnote_table_state": {
     "filters": [],
     "pageIndex": 0,
     "pageSize": 10,
     "sortBy": []
    },
    "deepnote_to_be_reexecuted": false,
    "execution_millis": 37,
    "execution_start": 1650727143878,
    "source_hash": "dae0d4c",
    "tags": []
   },
   "outputs": [
    {
     "data": {
      "text/html": [
       "<div>\n",
       "<style scoped>\n",
       "    .dataframe tbody tr th:only-of-type {\n",
       "        vertical-align: middle;\n",
       "    }\n",
       "\n",
       "    .dataframe tbody tr th {\n",
       "        vertical-align: top;\n",
       "    }\n",
       "\n",
       "    .dataframe thead th {\n",
       "        text-align: right;\n",
       "    }\n",
       "</style>\n",
       "<table border=\"1\" class=\"dataframe\">\n",
       "  <thead>\n",
       "    <tr style=\"text-align: right;\">\n",
       "      <th></th>\n",
       "      <th>Date</th>\n",
       "      <th>Value</th>\n",
       "    </tr>\n",
       "  </thead>\n",
       "  <tbody>\n",
       "    <tr>\n",
       "      <th>0</th>\n",
       "      <td>1913-01-01</td>\n",
       "      <td>12.1</td>\n",
       "    </tr>\n",
       "    <tr>\n",
       "      <th>1</th>\n",
       "      <td>1913-02-01</td>\n",
       "      <td>12.0</td>\n",
       "    </tr>\n",
       "    <tr>\n",
       "      <th>2</th>\n",
       "      <td>1913-03-01</td>\n",
       "      <td>12.0</td>\n",
       "    </tr>\n",
       "    <tr>\n",
       "      <th>3</th>\n",
       "      <td>1913-04-01</td>\n",
       "      <td>12.0</td>\n",
       "    </tr>\n",
       "    <tr>\n",
       "      <th>4</th>\n",
       "      <td>1913-05-01</td>\n",
       "      <td>11.9</td>\n",
       "    </tr>\n",
       "  </tbody>\n",
       "</table>\n",
       "</div>"
      ],
      "text/plain": [
       "         Date  Value\n",
       "0  1913-01-01   12.1\n",
       "1  1913-02-01   12.0\n",
       "2  1913-03-01   12.0\n",
       "3  1913-04-01   12.0\n",
       "4  1913-05-01   11.9"
      ]
     },
     "execution_count": 102,
     "metadata": {},
     "output_type": "execute_result"
    }
   ],
   "source": [
    "# Import PPI data and see the head\n",
    "ppi_data = pd.read_csv(\"ppi_monthly_data.csv\")\n",
    "ppi_data.columns = ['Date', 'Value']\n",
    "ppi_data.head()"
   ]
  },
  {
   "cell_type": "code",
   "execution_count": 103,
   "metadata": {
    "cell_id": "d1c76edfcffb48a8a04c135434e975b3",
    "deepnote_cell_height": 136.4375,
    "deepnote_cell_type": "code",
    "deepnote_output_heights": [
     21.171875
    ],
    "deepnote_to_be_reexecuted": false,
    "execution_millis": 11,
    "execution_start": 1650727143921,
    "source_hash": "976c014a",
    "tags": []
   },
   "outputs": [
    {
     "data": {
      "text/plain": [
       "(1311, 2)"
      ]
     },
     "execution_count": 103,
     "metadata": {},
     "output_type": "execute_result"
    }
   ],
   "source": [
    "# Look at the shape of our data\n",
    "ppi_data.shape"
   ]
  },
  {
   "cell_type": "code",
   "execution_count": 104,
   "metadata": {
    "cell_id": "4ff8a123b9984622a1e84534b43c536d",
    "deepnote_cell_height": 690.234375,
    "deepnote_cell_type": "code",
    "deepnote_to_be_reexecuted": false,
    "execution_millis": 67,
    "execution_start": 1650727143941,
    "source_hash": "f3b130eb",
    "tags": []
   },
   "outputs": [
    {
     "data": {
      "text/html": [
       "<div>\n",
       "<style scoped>\n",
       "    .dataframe tbody tr th:only-of-type {\n",
       "        vertical-align: middle;\n",
       "    }\n",
       "\n",
       "    .dataframe tbody tr th {\n",
       "        vertical-align: top;\n",
       "    }\n",
       "\n",
       "    .dataframe thead th {\n",
       "        text-align: right;\n",
       "    }\n",
       "</style>\n",
       "<table border=\"1\" class=\"dataframe\">\n",
       "  <thead>\n",
       "    <tr style=\"text-align: right;\">\n",
       "      <th></th>\n",
       "      <th>Date</th>\n",
       "      <th>Value</th>\n",
       "      <th>ChangePercentMonth</th>\n",
       "      <th>ChangePercentYear</th>\n",
       "    </tr>\n",
       "  </thead>\n",
       "  <tbody>\n",
       "    <tr>\n",
       "      <th>0</th>\n",
       "      <td>1913-01</td>\n",
       "      <td>12.100</td>\n",
       "      <td>NaN</td>\n",
       "      <td>NaN</td>\n",
       "    </tr>\n",
       "    <tr>\n",
       "      <th>1</th>\n",
       "      <td>1913-02</td>\n",
       "      <td>12.000</td>\n",
       "      <td>-0.0083</td>\n",
       "      <td>NaN</td>\n",
       "    </tr>\n",
       "    <tr>\n",
       "      <th>2</th>\n",
       "      <td>1913-03</td>\n",
       "      <td>12.000</td>\n",
       "      <td>0.0000</td>\n",
       "      <td>NaN</td>\n",
       "    </tr>\n",
       "    <tr>\n",
       "      <th>3</th>\n",
       "      <td>1913-04</td>\n",
       "      <td>12.000</td>\n",
       "      <td>0.0000</td>\n",
       "      <td>NaN</td>\n",
       "    </tr>\n",
       "    <tr>\n",
       "      <th>4</th>\n",
       "      <td>1913-05</td>\n",
       "      <td>11.900</td>\n",
       "      <td>-0.0083</td>\n",
       "      <td>NaN</td>\n",
       "    </tr>\n",
       "    <tr>\n",
       "      <th>...</th>\n",
       "      <td>...</td>\n",
       "      <td>...</td>\n",
       "      <td>...</td>\n",
       "      <td>...</td>\n",
       "    </tr>\n",
       "    <tr>\n",
       "      <th>1306</th>\n",
       "      <td>2021-11</td>\n",
       "      <td>243.287</td>\n",
       "      <td>0.0117</td>\n",
       "      <td>0.2269</td>\n",
       "    </tr>\n",
       "    <tr>\n",
       "      <th>1307</th>\n",
       "      <td>2021-12</td>\n",
       "      <td>241.327</td>\n",
       "      <td>-0.0081</td>\n",
       "      <td>0.2036</td>\n",
       "    </tr>\n",
       "    <tr>\n",
       "      <th>1308</th>\n",
       "      <td>2022-01</td>\n",
       "      <td>246.245</td>\n",
       "      <td>0.0204</td>\n",
       "      <td>0.2024</td>\n",
       "    </tr>\n",
       "    <tr>\n",
       "      <th>1309</th>\n",
       "      <td>2022-02</td>\n",
       "      <td>253.180</td>\n",
       "      <td>0.0282</td>\n",
       "      <td>0.2022</td>\n",
       "    </tr>\n",
       "    <tr>\n",
       "      <th>1310</th>\n",
       "      <td>2022-03</td>\n",
       "      <td>258.999</td>\n",
       "      <td>0.0230</td>\n",
       "      <td>0.2046</td>\n",
       "    </tr>\n",
       "  </tbody>\n",
       "</table>\n",
       "<p>1311 rows × 4 columns</p>\n",
       "</div>"
      ],
      "text/plain": [
       "         Date    Value  ChangePercentMonth  ChangePercentYear\n",
       "0     1913-01   12.100                 NaN                NaN\n",
       "1     1913-02   12.000             -0.0083                NaN\n",
       "2     1913-03   12.000              0.0000                NaN\n",
       "3     1913-04   12.000              0.0000                NaN\n",
       "4     1913-05   11.900             -0.0083                NaN\n",
       "...       ...      ...                 ...                ...\n",
       "1306  2021-11  243.287              0.0117             0.2269\n",
       "1307  2021-12  241.327             -0.0081             0.2036\n",
       "1308  2022-01  246.245              0.0204             0.2024\n",
       "1309  2022-02  253.180              0.0282             0.2022\n",
       "1310  2022-03  258.999              0.0230             0.2046\n",
       "\n",
       "[1311 rows x 4 columns]"
      ]
     },
     "execution_count": 104,
     "metadata": {},
     "output_type": "execute_result"
    }
   ],
   "source": [
    "# Clean data to have date in %Y-%m format\n",
    "ppi_data_clean = df_dates_monthly(ppi_data)\n",
    "# Clean data to have monthly and yearly percentage changes\n",
    "ppi_data_clean = df_change_percent(ppi_data_clean)\n",
    "# Show cleaned data\n",
    "ppi_data_clean"
   ]
  },
  {
   "cell_type": "code",
   "execution_count": 105,
   "metadata": {},
   "outputs": [
    {
     "name": "stderr",
     "output_type": "stream",
     "text": [
      "C:\\Users\\Suryanshu Choudhary\\AppData\\Local\\Temp\\ipykernel_9564\\3967109107.py:1: FutureWarning: DataFrame.fillna with 'method' is deprecated and will raise in a future version. Use obj.ffill() or obj.bfill() instead.\n",
      "  ppi_data_clean = ppi_data_clean.fillna(method='bfill')\n"
     ]
    }
   ],
   "source": [
    "ppi_data_clean = ppi_data_clean.fillna(method='bfill')"
   ]
  },
  {
   "cell_type": "code",
   "execution_count": 106,
   "metadata": {},
   "outputs": [
    {
     "data": {
      "text/plain": [
       "0"
      ]
     },
     "execution_count": 106,
     "metadata": {},
     "output_type": "execute_result"
    }
   ],
   "source": [
    "ppi_data_clean.isnull().sum().sum()"
   ]
  },
  {
   "cell_type": "code",
   "execution_count": 107,
   "metadata": {},
   "outputs": [
    {
     "data": {
      "text/html": [
       "<div>\n",
       "<style scoped>\n",
       "    .dataframe tbody tr th:only-of-type {\n",
       "        vertical-align: middle;\n",
       "    }\n",
       "\n",
       "    .dataframe tbody tr th {\n",
       "        vertical-align: top;\n",
       "    }\n",
       "\n",
       "    .dataframe thead th {\n",
       "        text-align: right;\n",
       "    }\n",
       "</style>\n",
       "<table border=\"1\" class=\"dataframe\">\n",
       "  <thead>\n",
       "    <tr style=\"text-align: right;\">\n",
       "      <th></th>\n",
       "      <th>Date</th>\n",
       "      <th>Value</th>\n",
       "      <th>ChangePercentMonth</th>\n",
       "      <th>ChangePercentYear</th>\n",
       "    </tr>\n",
       "  </thead>\n",
       "  <tbody>\n",
       "    <tr>\n",
       "      <th>0</th>\n",
       "      <td>1913-01</td>\n",
       "      <td>12.100</td>\n",
       "      <td>-0.0083</td>\n",
       "      <td>-0.0248</td>\n",
       "    </tr>\n",
       "    <tr>\n",
       "      <th>1</th>\n",
       "      <td>1913-02</td>\n",
       "      <td>12.000</td>\n",
       "      <td>-0.0083</td>\n",
       "      <td>-0.0248</td>\n",
       "    </tr>\n",
       "    <tr>\n",
       "      <th>2</th>\n",
       "      <td>1913-03</td>\n",
       "      <td>12.000</td>\n",
       "      <td>0.0000</td>\n",
       "      <td>-0.0248</td>\n",
       "    </tr>\n",
       "    <tr>\n",
       "      <th>3</th>\n",
       "      <td>1913-04</td>\n",
       "      <td>12.000</td>\n",
       "      <td>0.0000</td>\n",
       "      <td>-0.0248</td>\n",
       "    </tr>\n",
       "    <tr>\n",
       "      <th>4</th>\n",
       "      <td>1913-05</td>\n",
       "      <td>11.900</td>\n",
       "      <td>-0.0083</td>\n",
       "      <td>-0.0248</td>\n",
       "    </tr>\n",
       "    <tr>\n",
       "      <th>...</th>\n",
       "      <td>...</td>\n",
       "      <td>...</td>\n",
       "      <td>...</td>\n",
       "      <td>...</td>\n",
       "    </tr>\n",
       "    <tr>\n",
       "      <th>1306</th>\n",
       "      <td>2021-11</td>\n",
       "      <td>243.287</td>\n",
       "      <td>0.0117</td>\n",
       "      <td>0.2269</td>\n",
       "    </tr>\n",
       "    <tr>\n",
       "      <th>1307</th>\n",
       "      <td>2021-12</td>\n",
       "      <td>241.327</td>\n",
       "      <td>-0.0081</td>\n",
       "      <td>0.2036</td>\n",
       "    </tr>\n",
       "    <tr>\n",
       "      <th>1308</th>\n",
       "      <td>2022-01</td>\n",
       "      <td>246.245</td>\n",
       "      <td>0.0204</td>\n",
       "      <td>0.2024</td>\n",
       "    </tr>\n",
       "    <tr>\n",
       "      <th>1309</th>\n",
       "      <td>2022-02</td>\n",
       "      <td>253.180</td>\n",
       "      <td>0.0282</td>\n",
       "      <td>0.2022</td>\n",
       "    </tr>\n",
       "    <tr>\n",
       "      <th>1310</th>\n",
       "      <td>2022-03</td>\n",
       "      <td>258.999</td>\n",
       "      <td>0.0230</td>\n",
       "      <td>0.2046</td>\n",
       "    </tr>\n",
       "  </tbody>\n",
       "</table>\n",
       "<p>1311 rows × 4 columns</p>\n",
       "</div>"
      ],
      "text/plain": [
       "         Date    Value  ChangePercentMonth  ChangePercentYear\n",
       "0     1913-01   12.100             -0.0083            -0.0248\n",
       "1     1913-02   12.000             -0.0083            -0.0248\n",
       "2     1913-03   12.000              0.0000            -0.0248\n",
       "3     1913-04   12.000              0.0000            -0.0248\n",
       "4     1913-05   11.900             -0.0083            -0.0248\n",
       "...       ...      ...                 ...                ...\n",
       "1306  2021-11  243.287              0.0117             0.2269\n",
       "1307  2021-12  241.327             -0.0081             0.2036\n",
       "1308  2022-01  246.245              0.0204             0.2024\n",
       "1309  2022-02  253.180              0.0282             0.2022\n",
       "1310  2022-03  258.999              0.0230             0.2046\n",
       "\n",
       "[1311 rows x 4 columns]"
      ]
     },
     "execution_count": 107,
     "metadata": {},
     "output_type": "execute_result"
    }
   ],
   "source": [
    "ppi_data_clean"
   ]
  },
  {
   "cell_type": "code",
   "execution_count": 108,
   "metadata": {
    "cell_id": "92d7e0c2be1d4d04a62563389fd1a2ba",
    "deepnote_cell_height": 738.75,
    "deepnote_cell_type": "code",
    "deepnote_output_heights": [
     569.46875
    ],
    "deepnote_to_be_reexecuted": false,
    "execution_millis": 608,
    "execution_start": 1650727144013,
    "source_hash": "a2317df9",
    "tags": []
   },
   "outputs": [
    {
     "data": {
      "image/png": "[encoded data removed]",
      "text/plain": [
       "<Figure size 1500x1000 with 1 Axes>"
      ]
     },
     "metadata": {},
     "output_type": "display_data"
    }
   ],
   "source": [
    "# Plot PPI time series graph\n",
    "plt.figure(figsize=(15,10))\n",
    "plt.xticks(np.arange(0, 2000, 120)) # show x-axis ticks at every 10 years\n",
    "plt.plot(ppi_data_clean['Date'], ppi_data_clean['Value'])\n",
    "plt.show()"
   ]
  },
  {
   "cell_type": "markdown",
   "metadata": {
    "cell_id": "f7fefab1f2ba4ce68289b8da0ba623cd",
    "deepnote_cell_height": 520.171875,
    "deepnote_cell_type": "markdown",
    "tags": []
   },
   "source": [
    "## 1.5. Nominal Effective Exchange Rate\n",
    "Data Source: https://fred.stlouisfed.org/series/NBUSBIS "
   ]
  },
  {
   "cell_type": "code",
   "execution_count": 109,
   "metadata": {
    "cell_id": "1bcff8000843491486b3c3ca85dfa293",
    "deepnote_cell_height": 654.25,
    "deepnote_cell_type": "code",
    "deepnote_table_loading": false,
    "deepnote_table_state": {
     "filters": [],
     "pageIndex": 0,
     "pageSize": 10,
     "sortBy": []
    },
    "deepnote_to_be_reexecuted": false,
    "execution_millis": 69,
    "execution_start": 1650727144555,
    "source_hash": "3139a132",
    "tags": []
   },
   "outputs": [
    {
     "data": {
      "text/html": [
       "<div>\n",
       "<style scoped>\n",
       "    .dataframe tbody tr th:only-of-type {\n",
       "        vertical-align: middle;\n",
       "    }\n",
       "\n",
       "    .dataframe tbody tr th {\n",
       "        vertical-align: top;\n",
       "    }\n",
       "\n",
       "    .dataframe thead th {\n",
       "        text-align: right;\n",
       "    }\n",
       "</style>\n",
       "<table border=\"1\" class=\"dataframe\">\n",
       "  <thead>\n",
       "    <tr style=\"text-align: right;\">\n",
       "      <th></th>\n",
       "      <th>Date</th>\n",
       "      <th>Value</th>\n",
       "    </tr>\n",
       "  </thead>\n",
       "  <tbody>\n",
       "    <tr>\n",
       "      <th>0</th>\n",
       "      <td>1994-01-01</td>\n",
       "      <td>88.81</td>\n",
       "    </tr>\n",
       "    <tr>\n",
       "      <th>1</th>\n",
       "      <td>1994-02-01</td>\n",
       "      <td>88.89</td>\n",
       "    </tr>\n",
       "    <tr>\n",
       "      <th>2</th>\n",
       "      <td>1994-03-01</td>\n",
       "      <td>89.52</td>\n",
       "    </tr>\n",
       "    <tr>\n",
       "      <th>3</th>\n",
       "      <td>1994-04-01</td>\n",
       "      <td>90.30</td>\n",
       "    </tr>\n",
       "    <tr>\n",
       "      <th>4</th>\n",
       "      <td>1994-05-01</td>\n",
       "      <td>90.27</td>\n",
       "    </tr>\n",
       "    <tr>\n",
       "      <th>...</th>\n",
       "      <td>...</td>\n",
       "      <td>...</td>\n",
       "    </tr>\n",
       "    <tr>\n",
       "      <th>334</th>\n",
       "      <td>2021-11-01</td>\n",
       "      <td>121.78</td>\n",
       "    </tr>\n",
       "    <tr>\n",
       "      <th>335</th>\n",
       "      <td>2021-12-01</td>\n",
       "      <td>122.57</td>\n",
       "    </tr>\n",
       "    <tr>\n",
       "      <th>336</th>\n",
       "      <td>2022-01-01</td>\n",
       "      <td>121.92</td>\n",
       "    </tr>\n",
       "    <tr>\n",
       "      <th>337</th>\n",
       "      <td>2022-02-01</td>\n",
       "      <td>121.84</td>\n",
       "    </tr>\n",
       "    <tr>\n",
       "      <th>338</th>\n",
       "      <td>2022-03-01</td>\n",
       "      <td>123.39</td>\n",
       "    </tr>\n",
       "  </tbody>\n",
       "</table>\n",
       "<p>339 rows × 2 columns</p>\n",
       "</div>"
      ],
      "text/plain": [
       "           Date   Value\n",
       "0    1994-01-01   88.81\n",
       "1    1994-02-01   88.89\n",
       "2    1994-03-01   89.52\n",
       "3    1994-04-01   90.30\n",
       "4    1994-05-01   90.27\n",
       "..          ...     ...\n",
       "334  2021-11-01  121.78\n",
       "335  2021-12-01  122.57\n",
       "336  2022-01-01  121.92\n",
       "337  2022-02-01  121.84\n",
       "338  2022-03-01  123.39\n",
       "\n",
       "[339 rows x 2 columns]"
      ]
     },
     "execution_count": 109,
     "metadata": {},
     "output_type": "execute_result"
    }
   ],
   "source": [
    "# Import NEER data and see the head\n",
    "neer_pd = pd.read_csv('NBUSBIS.csv')\n",
    "neer_pd.columns = ['Date', 'Value']\n",
    "neer_pd"
   ]
  },
  {
   "cell_type": "code",
   "execution_count": 110,
   "metadata": {
    "cell_id": "a034441a6f474bd79c1a8d570c2c1717",
    "deepnote_cell_height": 136.4375,
    "deepnote_cell_type": "code",
    "deepnote_output_heights": [
     21.171875
    ],
    "deepnote_to_be_reexecuted": false,
    "execution_millis": 32,
    "execution_start": 1650727144610,
    "source_hash": "3eed9e10",
    "tags": []
   },
   "outputs": [
    {
     "data": {
      "text/plain": [
       "(339, 2)"
      ]
     },
     "execution_count": 110,
     "metadata": {},
     "output_type": "execute_result"
    }
   ],
   "source": [
    "# Look at the shape of our data\n",
    "neer_pd.shape"
   ]
  },
  {
   "cell_type": "code",
   "execution_count": 111,
   "metadata": {
    "cell_id": "f3beb62d675846ad967860b7ae913aef",
    "deepnote_cell_height": 690.234375,
    "deepnote_cell_type": "code",
    "deepnote_to_be_reexecuted": false,
    "execution_millis": 61,
    "execution_start": 1650727144631,
    "source_hash": "5156a70f",
    "tags": []
   },
   "outputs": [
    {
     "data": {
      "text/html": [
       "<div>\n",
       "<style scoped>\n",
       "    .dataframe tbody tr th:only-of-type {\n",
       "        vertical-align: middle;\n",
       "    }\n",
       "\n",
       "    .dataframe tbody tr th {\n",
       "        vertical-align: top;\n",
       "    }\n",
       "\n",
       "    .dataframe thead th {\n",
       "        text-align: right;\n",
       "    }\n",
       "</style>\n",
       "<table border=\"1\" class=\"dataframe\">\n",
       "  <thead>\n",
       "    <tr style=\"text-align: right;\">\n",
       "      <th></th>\n",
       "      <th>Date</th>\n",
       "      <th>Value</th>\n",
       "      <th>ChangePercentMonth</th>\n",
       "      <th>ChangePercentYear</th>\n",
       "    </tr>\n",
       "  </thead>\n",
       "  <tbody>\n",
       "    <tr>\n",
       "      <th>0</th>\n",
       "      <td>1994-01</td>\n",
       "      <td>88.81</td>\n",
       "      <td>NaN</td>\n",
       "      <td>NaN</td>\n",
       "    </tr>\n",
       "    <tr>\n",
       "      <th>1</th>\n",
       "      <td>1994-02</td>\n",
       "      <td>88.89</td>\n",
       "      <td>0.0009</td>\n",
       "      <td>NaN</td>\n",
       "    </tr>\n",
       "    <tr>\n",
       "      <th>2</th>\n",
       "      <td>1994-03</td>\n",
       "      <td>89.52</td>\n",
       "      <td>0.0071</td>\n",
       "      <td>NaN</td>\n",
       "    </tr>\n",
       "    <tr>\n",
       "      <th>3</th>\n",
       "      <td>1994-04</td>\n",
       "      <td>90.30</td>\n",
       "      <td>0.0087</td>\n",
       "      <td>NaN</td>\n",
       "    </tr>\n",
       "    <tr>\n",
       "      <th>4</th>\n",
       "      <td>1994-05</td>\n",
       "      <td>90.27</td>\n",
       "      <td>-0.0003</td>\n",
       "      <td>NaN</td>\n",
       "    </tr>\n",
       "    <tr>\n",
       "      <th>...</th>\n",
       "      <td>...</td>\n",
       "      <td>...</td>\n",
       "      <td>...</td>\n",
       "      <td>...</td>\n",
       "    </tr>\n",
       "    <tr>\n",
       "      <th>334</th>\n",
       "      <td>2021-11</td>\n",
       "      <td>121.78</td>\n",
       "      <td>0.0079</td>\n",
       "      <td>0.0089</td>\n",
       "    </tr>\n",
       "    <tr>\n",
       "      <th>335</th>\n",
       "      <td>2021-12</td>\n",
       "      <td>122.57</td>\n",
       "      <td>0.0065</td>\n",
       "      <td>0.0341</td>\n",
       "    </tr>\n",
       "    <tr>\n",
       "      <th>336</th>\n",
       "      <td>2022-01</td>\n",
       "      <td>121.92</td>\n",
       "      <td>-0.0053</td>\n",
       "      <td>0.0331</td>\n",
       "    </tr>\n",
       "    <tr>\n",
       "      <th>337</th>\n",
       "      <td>2022-02</td>\n",
       "      <td>121.84</td>\n",
       "      <td>-0.0007</td>\n",
       "      <td>0.0283</td>\n",
       "    </tr>\n",
       "    <tr>\n",
       "      <th>338</th>\n",
       "      <td>2022-03</td>\n",
       "      <td>123.39</td>\n",
       "      <td>0.0127</td>\n",
       "      <td>0.0272</td>\n",
       "    </tr>\n",
       "  </tbody>\n",
       "</table>\n",
       "<p>339 rows × 4 columns</p>\n",
       "</div>"
      ],
      "text/plain": [
       "        Date   Value  ChangePercentMonth  ChangePercentYear\n",
       "0    1994-01   88.81                 NaN                NaN\n",
       "1    1994-02   88.89              0.0009                NaN\n",
       "2    1994-03   89.52              0.0071                NaN\n",
       "3    1994-04   90.30              0.0087                NaN\n",
       "4    1994-05   90.27             -0.0003                NaN\n",
       "..       ...     ...                 ...                ...\n",
       "334  2021-11  121.78              0.0079             0.0089\n",
       "335  2021-12  122.57              0.0065             0.0341\n",
       "336  2022-01  121.92             -0.0053             0.0331\n",
       "337  2022-02  121.84             -0.0007             0.0283\n",
       "338  2022-03  123.39              0.0127             0.0272\n",
       "\n",
       "[339 rows x 4 columns]"
      ]
     },
     "execution_count": 111,
     "metadata": {},
     "output_type": "execute_result"
    }
   ],
   "source": [
    "# Clean data to have date in %Y-%m format\n",
    "neer_data_clean = df_dates_monthly(neer_pd)\n",
    "# Clean data to have monthly and yearly percentage changes\n",
    "neer_data_clean = df_change_percent(neer_data_clean)\n",
    "# Show cleaned data\n",
    "neer_data_clean"
   ]
  },
  {
   "cell_type": "code",
   "execution_count": 112,
   "metadata": {},
   "outputs": [
    {
     "name": "stderr",
     "output_type": "stream",
     "text": [
      "C:\\Users\\Suryanshu Choudhary\\AppData\\Local\\Temp\\ipykernel_9564\\3653658372.py:1: FutureWarning: DataFrame.fillna with 'method' is deprecated and will raise in a future version. Use obj.ffill() or obj.bfill() instead.\n",
      "  neer_data_clean = neer_data_clean.fillna(method='bfill')\n"
     ]
    }
   ],
   "source": [
    "neer_data_clean = neer_data_clean.fillna(method='bfill')"
   ]
  },
  {
   "cell_type": "code",
   "execution_count": 113,
   "metadata": {},
   "outputs": [
    {
     "data": {
      "text/plain": [
       "0"
      ]
     },
     "execution_count": 113,
     "metadata": {},
     "output_type": "execute_result"
    }
   ],
   "source": [
    "neer_data_clean.isnull().sum().sum()"
   ]
  },
  {
   "cell_type": "code",
   "execution_count": 114,
   "metadata": {},
   "outputs": [
    {
     "data": {
      "text/html": [
       "<div>\n",
       "<style scoped>\n",
       "    .dataframe tbody tr th:only-of-type {\n",
       "        vertical-align: middle;\n",
       "    }\n",
       "\n",
       "    .dataframe tbody tr th {\n",
       "        vertical-align: top;\n",
       "    }\n",
       "\n",
       "    .dataframe thead th {\n",
       "        text-align: right;\n",
       "    }\n",
       "</style>\n",
       "<table border=\"1\" class=\"dataframe\">\n",
       "  <thead>\n",
       "    <tr style=\"text-align: right;\">\n",
       "      <th></th>\n",
       "      <th>Date</th>\n",
       "      <th>Value</th>\n",
       "      <th>ChangePercentMonth</th>\n",
       "      <th>ChangePercentYear</th>\n",
       "    </tr>\n",
       "  </thead>\n",
       "  <tbody>\n",
       "    <tr>\n",
       "      <th>0</th>\n",
       "      <td>1994-01</td>\n",
       "      <td>88.81</td>\n",
       "      <td>0.0009</td>\n",
       "      <td>0.0482</td>\n",
       "    </tr>\n",
       "    <tr>\n",
       "      <th>1</th>\n",
       "      <td>1994-02</td>\n",
       "      <td>88.89</td>\n",
       "      <td>0.0009</td>\n",
       "      <td>0.0482</td>\n",
       "    </tr>\n",
       "    <tr>\n",
       "      <th>2</th>\n",
       "      <td>1994-03</td>\n",
       "      <td>89.52</td>\n",
       "      <td>0.0071</td>\n",
       "      <td>0.0482</td>\n",
       "    </tr>\n",
       "    <tr>\n",
       "      <th>3</th>\n",
       "      <td>1994-04</td>\n",
       "      <td>90.30</td>\n",
       "      <td>0.0087</td>\n",
       "      <td>0.0482</td>\n",
       "    </tr>\n",
       "    <tr>\n",
       "      <th>4</th>\n",
       "      <td>1994-05</td>\n",
       "      <td>90.27</td>\n",
       "      <td>-0.0003</td>\n",
       "      <td>0.0482</td>\n",
       "    </tr>\n",
       "    <tr>\n",
       "      <th>...</th>\n",
       "      <td>...</td>\n",
       "      <td>...</td>\n",
       "      <td>...</td>\n",
       "      <td>...</td>\n",
       "    </tr>\n",
       "    <tr>\n",
       "      <th>334</th>\n",
       "      <td>2021-11</td>\n",
       "      <td>121.78</td>\n",
       "      <td>0.0079</td>\n",
       "      <td>0.0089</td>\n",
       "    </tr>\n",
       "    <tr>\n",
       "      <th>335</th>\n",
       "      <td>2021-12</td>\n",
       "      <td>122.57</td>\n",
       "      <td>0.0065</td>\n",
       "      <td>0.0341</td>\n",
       "    </tr>\n",
       "    <tr>\n",
       "      <th>336</th>\n",
       "      <td>2022-01</td>\n",
       "      <td>121.92</td>\n",
       "      <td>-0.0053</td>\n",
       "      <td>0.0331</td>\n",
       "    </tr>\n",
       "    <tr>\n",
       "      <th>337</th>\n",
       "      <td>2022-02</td>\n",
       "      <td>121.84</td>\n",
       "      <td>-0.0007</td>\n",
       "      <td>0.0283</td>\n",
       "    </tr>\n",
       "    <tr>\n",
       "      <th>338</th>\n",
       "      <td>2022-03</td>\n",
       "      <td>123.39</td>\n",
       "      <td>0.0127</td>\n",
       "      <td>0.0272</td>\n",
       "    </tr>\n",
       "  </tbody>\n",
       "</table>\n",
       "<p>339 rows × 4 columns</p>\n",
       "</div>"
      ],
      "text/plain": [
       "        Date   Value  ChangePercentMonth  ChangePercentYear\n",
       "0    1994-01   88.81              0.0009             0.0482\n",
       "1    1994-02   88.89              0.0009             0.0482\n",
       "2    1994-03   89.52              0.0071             0.0482\n",
       "3    1994-04   90.30              0.0087             0.0482\n",
       "4    1994-05   90.27             -0.0003             0.0482\n",
       "..       ...     ...                 ...                ...\n",
       "334  2021-11  121.78              0.0079             0.0089\n",
       "335  2021-12  122.57              0.0065             0.0341\n",
       "336  2022-01  121.92             -0.0053             0.0331\n",
       "337  2022-02  121.84             -0.0007             0.0283\n",
       "338  2022-03  123.39              0.0127             0.0272\n",
       "\n",
       "[339 rows x 4 columns]"
      ]
     },
     "execution_count": 114,
     "metadata": {},
     "output_type": "execute_result"
    }
   ],
   "source": [
    "neer_data_clean"
   ]
  },
  {
   "cell_type": "code",
   "execution_count": 115,
   "metadata": {
    "cell_id": "7cd123c5489f4a5e9dfc069c933af94b",
    "deepnote_cell_height": 738.75,
    "deepnote_cell_type": "code",
    "deepnote_output_heights": [
     569.46875
    ],
    "deepnote_to_be_reexecuted": false,
    "execution_millis": 354,
    "execution_start": 1650727144702,
    "source_hash": "ca8985d",
    "tags": []
   },
   "outputs": [
    {
     "data": {
      "image/png": "[encoded data removed]",
      "text/plain": [
       "<Figure size 1500x1000 with 1 Axes>"
      ]
     },
     "metadata": {},
     "output_type": "display_data"
    }
   ],
   "source": [
    "# Plot PPI time series graph\n",
    "plt.figure(figsize=(15,10))\n",
    "plt.xticks(np.arange(0, 2000, 60)) # show x-axis ticks at every 5 years\n",
    "plt.plot(neer_data_clean['Date'], neer_data_clean['Value'])\n",
    "plt.show()"
   ]
  },
  {
   "cell_type": "markdown",
   "metadata": {
    "cell_id": "b2a77bf765664d8abc06ca594cc1dffb",
    "deepnote_cell_height": 181.65625,
    "deepnote_cell_type": "markdown",
    "tags": []
   },
   "source": [
    "## 1.6. US Unemployment Rate Data\n",
    "Data source: https://www.kaggle.com/datasets/axeltorbenson/unemployment-data-19482021"
   ]
  },
  {
   "cell_type": "code",
   "execution_count": 116,
   "metadata": {
    "cell_id": "e301067e4178425a83c06bee4c68446a",
    "deepnote_cell_height": 479.953125,
    "deepnote_cell_type": "code",
    "deepnote_table_loading": false,
    "deepnote_table_state": {
     "filters": [],
     "pageIndex": 0,
     "pageSize": 10,
     "sortBy": [
      {
       "id": "date",
       "type": "asc"
      }
     ]
    },
    "deepnote_to_be_reexecuted": false,
    "execution_millis": 196,
    "execution_start": 1650727145047,
    "source_hash": "c86a48f8",
    "tags": []
   },
   "outputs": [
    {
     "data": {
      "text/html": [
       "<div>\n",
       "<style scoped>\n",
       "    .dataframe tbody tr th:only-of-type {\n",
       "        vertical-align: middle;\n",
       "    }\n",
       "\n",
       "    .dataframe tbody tr th {\n",
       "        vertical-align: top;\n",
       "    }\n",
       "\n",
       "    .dataframe thead th {\n",
       "        text-align: right;\n",
       "    }\n",
       "</style>\n",
       "<table border=\"1\" class=\"dataframe\">\n",
       "  <thead>\n",
       "    <tr style=\"text-align: right;\">\n",
       "      <th></th>\n",
       "      <th>date</th>\n",
       "      <th>unrate</th>\n",
       "      <th>unrate_men</th>\n",
       "      <th>unrate_women</th>\n",
       "      <th>unrate_16_to_17</th>\n",
       "      <th>unrate_18_to_19</th>\n",
       "      <th>unrate_20_to_24</th>\n",
       "      <th>unrate_25_to_34</th>\n",
       "      <th>unrate_35_to_44</th>\n",
       "      <th>unrate_45_to_54</th>\n",
       "      <th>unrate_55_over</th>\n",
       "    </tr>\n",
       "  </thead>\n",
       "  <tbody>\n",
       "    <tr>\n",
       "      <th>0</th>\n",
       "      <td>1/1/1948</td>\n",
       "      <td>4.0</td>\n",
       "      <td>4.2</td>\n",
       "      <td>3.5</td>\n",
       "      <td>10.8</td>\n",
       "      <td>9.6</td>\n",
       "      <td>6.6</td>\n",
       "      <td>3.6</td>\n",
       "      <td>2.6</td>\n",
       "      <td>2.7</td>\n",
       "      <td>3.6</td>\n",
       "    </tr>\n",
       "    <tr>\n",
       "      <th>1</th>\n",
       "      <td>2/1/1948</td>\n",
       "      <td>4.7</td>\n",
       "      <td>4.7</td>\n",
       "      <td>4.8</td>\n",
       "      <td>15.0</td>\n",
       "      <td>9.5</td>\n",
       "      <td>8.0</td>\n",
       "      <td>4.0</td>\n",
       "      <td>3.2</td>\n",
       "      <td>3.4</td>\n",
       "      <td>4.0</td>\n",
       "    </tr>\n",
       "    <tr>\n",
       "      <th>2</th>\n",
       "      <td>3/1/1948</td>\n",
       "      <td>4.5</td>\n",
       "      <td>4.5</td>\n",
       "      <td>4.4</td>\n",
       "      <td>13.2</td>\n",
       "      <td>9.3</td>\n",
       "      <td>8.6</td>\n",
       "      <td>3.5</td>\n",
       "      <td>3.2</td>\n",
       "      <td>2.9</td>\n",
       "      <td>3.5</td>\n",
       "    </tr>\n",
       "    <tr>\n",
       "      <th>3</th>\n",
       "      <td>4/1/1948</td>\n",
       "      <td>4.0</td>\n",
       "      <td>4.0</td>\n",
       "      <td>4.1</td>\n",
       "      <td>9.9</td>\n",
       "      <td>8.1</td>\n",
       "      <td>6.8</td>\n",
       "      <td>3.5</td>\n",
       "      <td>3.1</td>\n",
       "      <td>2.9</td>\n",
       "      <td>3.2</td>\n",
       "    </tr>\n",
       "    <tr>\n",
       "      <th>4</th>\n",
       "      <td>5/1/1948</td>\n",
       "      <td>3.4</td>\n",
       "      <td>3.3</td>\n",
       "      <td>3.4</td>\n",
       "      <td>6.4</td>\n",
       "      <td>7.2</td>\n",
       "      <td>6.3</td>\n",
       "      <td>2.8</td>\n",
       "      <td>2.5</td>\n",
       "      <td>2.3</td>\n",
       "      <td>2.9</td>\n",
       "    </tr>\n",
       "  </tbody>\n",
       "</table>\n",
       "</div>"
      ],
      "text/plain": [
       "       date  unrate  unrate_men  unrate_women  unrate_16_to_17  \\\n",
       "0  1/1/1948     4.0         4.2           3.5             10.8   \n",
       "1  2/1/1948     4.7         4.7           4.8             15.0   \n",
       "2  3/1/1948     4.5         4.5           4.4             13.2   \n",
       "3  4/1/1948     4.0         4.0           4.1              9.9   \n",
       "4  5/1/1948     3.4         3.3           3.4              6.4   \n",
       "\n",
       "   unrate_18_to_19  unrate_20_to_24  unrate_25_to_34  unrate_35_to_44  \\\n",
       "0              9.6              6.6              3.6              2.6   \n",
       "1              9.5              8.0              4.0              3.2   \n",
       "2              9.3              8.6              3.5              3.2   \n",
       "3              8.1              6.8              3.5              3.1   \n",
       "4              7.2              6.3              2.8              2.5   \n",
       "\n",
       "   unrate_45_to_54  unrate_55_over  \n",
       "0              2.7             3.6  \n",
       "1              3.4             4.0  \n",
       "2              2.9             3.5  \n",
       "3              2.9             3.2  \n",
       "4              2.3             2.9  "
      ]
     },
     "execution_count": 116,
     "metadata": {},
     "output_type": "execute_result"
    }
   ],
   "source": [
    "# Import enemployment data and see the head\n",
    "unemp_data = pd.read_csv(\"unemployment_rate_data.csv\")\n",
    "unemp_data.head()"
   ]
  },
  {
   "cell_type": "code",
   "execution_count": 117,
   "metadata": {
    "cell_id": "2200d117379b40a0a88d0fdd0a3bebb0",
    "deepnote_cell_height": 136.4375,
    "deepnote_cell_type": "code",
    "deepnote_output_heights": [
     21.171875
    ],
    "deepnote_to_be_reexecuted": false,
    "execution_millis": 95,
    "execution_start": 1650727145222,
    "source_hash": "b4c51700",
    "tags": []
   },
   "outputs": [
    {
     "data": {
      "text/plain": [
       "(887, 11)"
      ]
     },
     "execution_count": 117,
     "metadata": {},
     "output_type": "execute_result"
    }
   ],
   "source": [
    "# Look at the shape of our data\n",
    "unemp_data.shape"
   ]
  },
  {
   "cell_type": "code",
   "execution_count": 118,
   "metadata": {
    "cell_id": "b7b724c1e00b4e57bc88499e80047a76",
    "deepnote_cell_height": 762.25,
    "deepnote_cell_type": "code",
    "deepnote_to_be_reexecuted": false,
    "execution_millis": 156,
    "execution_start": 1650727145224,
    "source_hash": "ca9b0440",
    "tags": []
   },
   "outputs": [
    {
     "data": {
      "text/html": [
       "<div>\n",
       "<style scoped>\n",
       "    .dataframe tbody tr th:only-of-type {\n",
       "        vertical-align: middle;\n",
       "    }\n",
       "\n",
       "    .dataframe tbody tr th {\n",
       "        vertical-align: top;\n",
       "    }\n",
       "\n",
       "    .dataframe thead th {\n",
       "        text-align: right;\n",
       "    }\n",
       "</style>\n",
       "<table border=\"1\" class=\"dataframe\">\n",
       "  <thead>\n",
       "    <tr style=\"text-align: right;\">\n",
       "      <th></th>\n",
       "      <th>Date</th>\n",
       "      <th>Value</th>\n",
       "      <th>ChangePercentMonth</th>\n",
       "      <th>ChangePercentYear</th>\n",
       "    </tr>\n",
       "  </thead>\n",
       "  <tbody>\n",
       "    <tr>\n",
       "      <th>0</th>\n",
       "      <td>1948-01</td>\n",
       "      <td>4.0</td>\n",
       "      <td>NaN</td>\n",
       "      <td>NaN</td>\n",
       "    </tr>\n",
       "    <tr>\n",
       "      <th>1</th>\n",
       "      <td>1948-02</td>\n",
       "      <td>4.7</td>\n",
       "      <td>0.1750</td>\n",
       "      <td>NaN</td>\n",
       "    </tr>\n",
       "    <tr>\n",
       "      <th>2</th>\n",
       "      <td>1948-03</td>\n",
       "      <td>4.5</td>\n",
       "      <td>-0.0426</td>\n",
       "      <td>NaN</td>\n",
       "    </tr>\n",
       "    <tr>\n",
       "      <th>3</th>\n",
       "      <td>1948-04</td>\n",
       "      <td>4.0</td>\n",
       "      <td>-0.1111</td>\n",
       "      <td>NaN</td>\n",
       "    </tr>\n",
       "    <tr>\n",
       "      <th>4</th>\n",
       "      <td>1948-05</td>\n",
       "      <td>3.4</td>\n",
       "      <td>-0.1500</td>\n",
       "      <td>NaN</td>\n",
       "    </tr>\n",
       "    <tr>\n",
       "      <th>...</th>\n",
       "      <td>...</td>\n",
       "      <td>...</td>\n",
       "      <td>...</td>\n",
       "      <td>...</td>\n",
       "    </tr>\n",
       "    <tr>\n",
       "      <th>882</th>\n",
       "      <td>2021-07</td>\n",
       "      <td>5.7</td>\n",
       "      <td>-0.0656</td>\n",
       "      <td>-0.4571</td>\n",
       "    </tr>\n",
       "    <tr>\n",
       "      <th>883</th>\n",
       "      <td>2021-08</td>\n",
       "      <td>5.3</td>\n",
       "      <td>-0.0702</td>\n",
       "      <td>-0.3765</td>\n",
       "    </tr>\n",
       "    <tr>\n",
       "      <th>884</th>\n",
       "      <td>2021-09</td>\n",
       "      <td>4.6</td>\n",
       "      <td>-0.1321</td>\n",
       "      <td>-0.4026</td>\n",
       "    </tr>\n",
       "    <tr>\n",
       "      <th>885</th>\n",
       "      <td>2021-10</td>\n",
       "      <td>4.3</td>\n",
       "      <td>-0.0652</td>\n",
       "      <td>-0.3485</td>\n",
       "    </tr>\n",
       "    <tr>\n",
       "      <th>886</th>\n",
       "      <td>2021-11</td>\n",
       "      <td>3.9</td>\n",
       "      <td>-0.0930</td>\n",
       "      <td>-0.3906</td>\n",
       "    </tr>\n",
       "  </tbody>\n",
       "</table>\n",
       "<p>887 rows × 4 columns</p>\n",
       "</div>"
      ],
      "text/plain": [
       "        Date  Value  ChangePercentMonth  ChangePercentYear\n",
       "0    1948-01    4.0                 NaN                NaN\n",
       "1    1948-02    4.7              0.1750                NaN\n",
       "2    1948-03    4.5             -0.0426                NaN\n",
       "3    1948-04    4.0             -0.1111                NaN\n",
       "4    1948-05    3.4             -0.1500                NaN\n",
       "..       ...    ...                 ...                ...\n",
       "882  2021-07    5.7             -0.0656            -0.4571\n",
       "883  2021-08    5.3             -0.0702            -0.3765\n",
       "884  2021-09    4.6             -0.1321            -0.4026\n",
       "885  2021-10    4.3             -0.0652            -0.3485\n",
       "886  2021-11    3.9             -0.0930            -0.3906\n",
       "\n",
       "[887 rows x 4 columns]"
      ]
     },
     "execution_count": 118,
     "metadata": {},
     "output_type": "execute_result"
    }
   ],
   "source": [
    "# Clean unemployment data to keep columns Date and unemployment rate\n",
    "unemp_data_clean = pd.DataFrame(unemp_data[['date','unrate']])\n",
    "unemp_data_clean.columns = ['Date', 'Value']\n",
    "\n",
    "# Clean data to have date in %Y-%m format\n",
    "unemp_data_clean = df_dates_monthly(unemp_data_clean)\n",
    "# Clean data to have monthly and yearly percentage changes\n",
    "unemp_data_clean = df_change_percent(unemp_data_clean)\n",
    "# Show cleaned data\n",
    "unemp_data_clean"
   ]
  },
  {
   "cell_type": "code",
   "execution_count": 119,
   "metadata": {},
   "outputs": [
    {
     "name": "stderr",
     "output_type": "stream",
     "text": [
      "C:\\Users\\Suryanshu Choudhary\\AppData\\Local\\Temp\\ipykernel_9564\\4145607913.py:1: FutureWarning: DataFrame.fillna with 'method' is deprecated and will raise in a future version. Use obj.ffill() or obj.bfill() instead.\n",
      "  unemp_data_clean = unemp_data_clean.fillna(method='bfill')\n"
     ]
    }
   ],
   "source": [
    "unemp_data_clean = unemp_data_clean.fillna(method='bfill')"
   ]
  },
  {
   "cell_type": "code",
   "execution_count": 120,
   "metadata": {},
   "outputs": [
    {
     "data": {
      "text/plain": [
       "0"
      ]
     },
     "execution_count": 120,
     "metadata": {},
     "output_type": "execute_result"
    }
   ],
   "source": [
    "unemp_data_clean.isnull().sum().sum()"
   ]
  },
  {
   "cell_type": "code",
   "execution_count": 121,
   "metadata": {
    "cell_id": "aadf843a3d8349f1a7f0efc1be7f3cf9",
    "deepnote_cell_height": 742.65625,
    "deepnote_cell_type": "code",
    "deepnote_output_heights": [
     573.375
    ],
    "deepnote_to_be_reexecuted": false,
    "execution_millis": 511,
    "execution_start": 1650727145378,
    "source_hash": "e55dcea9",
    "tags": []
   },
   "outputs": [
    {
     "data": {
      "image/png": "[encoded data removed]",
      "text/plain": [
       "<Figure size 1500x1000 with 1 Axes>"
      ]
     },
     "metadata": {},
     "output_type": "display_data"
    }
   ],
   "source": [
    "# Plot unemloyment rate time series graph\n",
    "plt.figure(figsize=(15,10))\n",
    "plt.xticks(np.arange(0, 2000, 120)) # show x-axis ticks at every 10 years\n",
    "plt.plot(unemp_data_clean['Date'], unemp_data_clean['Value'])\n",
    "plt.show()"
   ]
  },
  {
   "cell_type": "markdown",
   "metadata": {
    "cell_id": "9642a73bf74948e6afe66ef470721b82",
    "deepnote_cell_height": 167.671875,
    "deepnote_cell_type": "markdown",
    "tags": []
   },
   "source": [
    "## 1.7. S&P 500 Monthly Data"
   ]
  },
  {
   "cell_type": "code",
   "execution_count": 122,
   "metadata": {
    "cell_id": "b439863db6f6420f91f512f904cde41e",
    "deepnote_cell_height": 447.96875,
    "deepnote_cell_type": "code",
    "deepnote_to_be_reexecuted": false,
    "execution_millis": 52,
    "execution_start": 1650727304242,
    "source_hash": "723cb5a5",
    "tags": []
   },
   "outputs": [
    {
     "data": {
      "text/html": [
       "<div>\n",
       "<style scoped>\n",
       "    .dataframe tbody tr th:only-of-type {\n",
       "        vertical-align: middle;\n",
       "    }\n",
       "\n",
       "    .dataframe tbody tr th {\n",
       "        vertical-align: top;\n",
       "    }\n",
       "\n",
       "    .dataframe thead th {\n",
       "        text-align: right;\n",
       "    }\n",
       "</style>\n",
       "<table border=\"1\" class=\"dataframe\">\n",
       "  <thead>\n",
       "    <tr style=\"text-align: right;\">\n",
       "      <th></th>\n",
       "      <th>Date</th>\n",
       "      <th>Price</th>\n",
       "      <th>Open</th>\n",
       "      <th>High</th>\n",
       "      <th>Low</th>\n",
       "      <th>Vol.</th>\n",
       "      <th>Change %</th>\n",
       "    </tr>\n",
       "  </thead>\n",
       "  <tbody>\n",
       "    <tr>\n",
       "      <th>0</th>\n",
       "      <td>Apr 22</td>\n",
       "      <td>4,457.30</td>\n",
       "      <td>4,547.90</td>\n",
       "      <td>4,593.90</td>\n",
       "      <td>4,369.63</td>\n",
       "      <td>-</td>\n",
       "      <td>-1.61%</td>\n",
       "    </tr>\n",
       "    <tr>\n",
       "      <th>1</th>\n",
       "      <td>Mar 22</td>\n",
       "      <td>4,530.41</td>\n",
       "      <td>4,358.08</td>\n",
       "      <td>4,637.90</td>\n",
       "      <td>4,157.20</td>\n",
       "      <td>-</td>\n",
       "      <td>3.58%</td>\n",
       "    </tr>\n",
       "    <tr>\n",
       "      <th>2</th>\n",
       "      <td>Feb 22</td>\n",
       "      <td>4,373.79</td>\n",
       "      <td>4,521.35</td>\n",
       "      <td>4,595.10</td>\n",
       "      <td>4,114.50</td>\n",
       "      <td>-</td>\n",
       "      <td>-3.14%</td>\n",
       "    </tr>\n",
       "    <tr>\n",
       "      <th>3</th>\n",
       "      <td>Jan 22</td>\n",
       "      <td>4,515.55</td>\n",
       "      <td>4,781.00</td>\n",
       "      <td>4,817.88</td>\n",
       "      <td>4,221.54</td>\n",
       "      <td>-</td>\n",
       "      <td>-5.26%</td>\n",
       "    </tr>\n",
       "    <tr>\n",
       "      <th>4</th>\n",
       "      <td>Dec 21</td>\n",
       "      <td>4,766.18</td>\n",
       "      <td>4,623.80</td>\n",
       "      <td>4,808.52</td>\n",
       "      <td>4,494.20</td>\n",
       "      <td>-</td>\n",
       "      <td>4.36%</td>\n",
       "    </tr>\n",
       "  </tbody>\n",
       "</table>\n",
       "</div>"
      ],
      "text/plain": [
       "     Date     Price      Open      High       Low Vol. Change %\n",
       "0  Apr 22  4,457.30  4,547.90  4,593.90  4,369.63    -   -1.61%\n",
       "1  Mar 22  4,530.41  4,358.08  4,637.90  4,157.20    -    3.58%\n",
       "2  Feb 22  4,373.79  4,521.35  4,595.10  4,114.50    -   -3.14%\n",
       "3  Jan 22  4,515.55  4,781.00  4,817.88  4,221.54    -   -5.26%\n",
       "4  Dec 21  4,766.18  4,623.80  4,808.52  4,494.20    -    4.36%"
      ]
     },
     "execution_count": 122,
     "metadata": {},
     "output_type": "execute_result"
    }
   ],
   "source": [
    "# Import S&P500 data and see the head\n",
    "sp_data = pd.read_csv(\"sp500_monthly_data.csv\")\n",
    "sp_data.head()"
   ]
  },
  {
   "cell_type": "code",
   "execution_count": 123,
   "metadata": {
    "cell_id": "30a3997162534111b18bc47501228d7d",
    "deepnote_cell_height": 136.4375,
    "deepnote_cell_type": "code",
    "deepnote_output_heights": [
     21.171875
    ],
    "deepnote_to_be_reexecuted": false,
    "execution_millis": 13,
    "execution_start": 1650727304297,
    "source_hash": "f753228b",
    "tags": []
   },
   "outputs": [
    {
     "data": {
      "text/plain": [
       "(627, 7)"
      ]
     },
     "execution_count": 123,
     "metadata": {},
     "output_type": "execute_result"
    }
   ],
   "source": [
    "# Look at the shape of our data\n",
    "sp_data.shape"
   ]
  },
  {
   "cell_type": "code",
   "execution_count": 124,
   "metadata": {
    "cell_id": "6894d96aecb54437b16538f22d49098a",
    "deepnote_cell_height": 798.234375,
    "deepnote_cell_type": "code",
    "deepnote_to_be_reexecuted": false,
    "execution_millis": 229,
    "execution_start": 1650727305923,
    "source_hash": "4e05139e",
    "tags": []
   },
   "outputs": [
    {
     "data": {
      "text/html": [
       "<div>\n",
       "<style scoped>\n",
       "    .dataframe tbody tr th:only-of-type {\n",
       "        vertical-align: middle;\n",
       "    }\n",
       "\n",
       "    .dataframe tbody tr th {\n",
       "        vertical-align: top;\n",
       "    }\n",
       "\n",
       "    .dataframe thead th {\n",
       "        text-align: right;\n",
       "    }\n",
       "</style>\n",
       "<table border=\"1\" class=\"dataframe\">\n",
       "  <thead>\n",
       "    <tr style=\"text-align: right;\">\n",
       "      <th></th>\n",
       "      <th>Date</th>\n",
       "      <th>Value</th>\n",
       "      <th>ChangePercentMonth</th>\n",
       "      <th>ChangePercentYear</th>\n",
       "    </tr>\n",
       "  </thead>\n",
       "  <tbody>\n",
       "    <tr>\n",
       "      <th>626</th>\n",
       "      <td>1970-02</td>\n",
       "      <td>89.50</td>\n",
       "      <td>NaN</td>\n",
       "      <td>NaN</td>\n",
       "    </tr>\n",
       "    <tr>\n",
       "      <th>625</th>\n",
       "      <td>1970-03</td>\n",
       "      <td>89.63</td>\n",
       "      <td>0.0015</td>\n",
       "      <td>NaN</td>\n",
       "    </tr>\n",
       "    <tr>\n",
       "      <th>624</th>\n",
       "      <td>1970-04</td>\n",
       "      <td>81.52</td>\n",
       "      <td>-0.0905</td>\n",
       "      <td>NaN</td>\n",
       "    </tr>\n",
       "    <tr>\n",
       "      <th>623</th>\n",
       "      <td>1970-05</td>\n",
       "      <td>76.55</td>\n",
       "      <td>-0.0610</td>\n",
       "      <td>NaN</td>\n",
       "    </tr>\n",
       "    <tr>\n",
       "      <th>622</th>\n",
       "      <td>1970-06</td>\n",
       "      <td>72.72</td>\n",
       "      <td>-0.0500</td>\n",
       "      <td>NaN</td>\n",
       "    </tr>\n",
       "    <tr>\n",
       "      <th>...</th>\n",
       "      <td>...</td>\n",
       "      <td>...</td>\n",
       "      <td>...</td>\n",
       "      <td>...</td>\n",
       "    </tr>\n",
       "    <tr>\n",
       "      <th>4</th>\n",
       "      <td>2021-12</td>\n",
       "      <td>4766.18</td>\n",
       "      <td>0.0436</td>\n",
       "      <td>0.2689</td>\n",
       "    </tr>\n",
       "    <tr>\n",
       "      <th>3</th>\n",
       "      <td>2022-01</td>\n",
       "      <td>4515.55</td>\n",
       "      <td>-0.0526</td>\n",
       "      <td>0.2157</td>\n",
       "    </tr>\n",
       "    <tr>\n",
       "      <th>2</th>\n",
       "      <td>2022-02</td>\n",
       "      <td>4373.79</td>\n",
       "      <td>-0.0314</td>\n",
       "      <td>0.1476</td>\n",
       "    </tr>\n",
       "    <tr>\n",
       "      <th>1</th>\n",
       "      <td>2022-03</td>\n",
       "      <td>4530.41</td>\n",
       "      <td>0.0358</td>\n",
       "      <td>0.1403</td>\n",
       "    </tr>\n",
       "    <tr>\n",
       "      <th>0</th>\n",
       "      <td>2022-04</td>\n",
       "      <td>4457.30</td>\n",
       "      <td>-0.0161</td>\n",
       "      <td>0.0660</td>\n",
       "    </tr>\n",
       "  </tbody>\n",
       "</table>\n",
       "<p>627 rows × 4 columns</p>\n",
       "</div>"
      ],
      "text/plain": [
       "        Date    Value  ChangePercentMonth  ChangePercentYear\n",
       "626  1970-02    89.50                 NaN                NaN\n",
       "625  1970-03    89.63              0.0015                NaN\n",
       "624  1970-04    81.52             -0.0905                NaN\n",
       "623  1970-05    76.55             -0.0610                NaN\n",
       "622  1970-06    72.72             -0.0500                NaN\n",
       "..       ...      ...                 ...                ...\n",
       "4    2021-12  4766.18              0.0436             0.2689\n",
       "3    2022-01  4515.55             -0.0526             0.2157\n",
       "2    2022-02  4373.79             -0.0314             0.1476\n",
       "1    2022-03  4530.41              0.0358             0.1403\n",
       "0    2022-04  4457.30             -0.0161             0.0660\n",
       "\n",
       "[627 rows x 4 columns]"
      ]
     },
     "execution_count": 124,
     "metadata": {},
     "output_type": "execute_result"
    }
   ],
   "source": [
    "# Clean data to have date in %Y-%m format\n",
    "sp_data['Date'] = pd.to_datetime(sp_data['Date'], format='%b %y')\n",
    "sp_data = df_dates_monthly(sp_data)\n",
    "# Clean S&P data to keep only Date and Value columns, sorted in ascending order of date\n",
    "sp_data_clean = pd.DataFrame(sp_data[['Date','Price']])\n",
    "sp_data_clean.columns = ['Date', 'Value']\n",
    "sp_data_clean['Value'] = sp_data_clean['Value'].str.replace(',', '').astype(float)\n",
    "sp_data_clean.sort_values(by=['Date'], inplace=True)\n",
    "# Clean data to have monthly and yearly percentage changes\n",
    "sp_data_clean = df_change_percent(sp_data_clean)\n",
    "# Show cleaned data\n",
    "sp_data_clean"
   ]
  },
  {
   "cell_type": "code",
   "execution_count": 125,
   "metadata": {},
   "outputs": [
    {
     "name": "stderr",
     "output_type": "stream",
     "text": [
      "C:\\Users\\Suryanshu Choudhary\\AppData\\Local\\Temp\\ipykernel_9564\\1595904611.py:1: FutureWarning: DataFrame.fillna with 'method' is deprecated and will raise in a future version. Use obj.ffill() or obj.bfill() instead.\n",
      "  sp_data_clean = sp_data_clean.fillna(method='bfill')\n"
     ]
    }
   ],
   "source": [
    "sp_data_clean = sp_data_clean.fillna(method='bfill')"
   ]
  },
  {
   "cell_type": "code",
   "execution_count": 126,
   "metadata": {},
   "outputs": [
    {
     "data": {
      "text/plain": [
       "0"
      ]
     },
     "execution_count": 126,
     "metadata": {},
     "output_type": "execute_result"
    }
   ],
   "source": [
    "sp_data_clean.isnull().sum().sum()"
   ]
  },
  {
   "cell_type": "code",
   "execution_count": 127,
   "metadata": {},
   "outputs": [
    {
     "data": {
      "text/html": [
       "<div>\n",
       "<style scoped>\n",
       "    .dataframe tbody tr th:only-of-type {\n",
       "        vertical-align: middle;\n",
       "    }\n",
       "\n",
       "    .dataframe tbody tr th {\n",
       "        vertical-align: top;\n",
       "    }\n",
       "\n",
       "    .dataframe thead th {\n",
       "        text-align: right;\n",
       "    }\n",
       "</style>\n",
       "<table border=\"1\" class=\"dataframe\">\n",
       "  <thead>\n",
       "    <tr style=\"text-align: right;\">\n",
       "      <th></th>\n",
       "      <th>Date</th>\n",
       "      <th>Value</th>\n",
       "      <th>ChangePercentMonth</th>\n",
       "      <th>ChangePercentYear</th>\n",
       "    </tr>\n",
       "  </thead>\n",
       "  <tbody>\n",
       "    <tr>\n",
       "      <th>626</th>\n",
       "      <td>1970-02</td>\n",
       "      <td>89.50</td>\n",
       "      <td>0.0015</td>\n",
       "      <td>0.0810</td>\n",
       "    </tr>\n",
       "    <tr>\n",
       "      <th>625</th>\n",
       "      <td>1970-03</td>\n",
       "      <td>89.63</td>\n",
       "      <td>0.0015</td>\n",
       "      <td>0.0810</td>\n",
       "    </tr>\n",
       "    <tr>\n",
       "      <th>624</th>\n",
       "      <td>1970-04</td>\n",
       "      <td>81.52</td>\n",
       "      <td>-0.0905</td>\n",
       "      <td>0.0810</td>\n",
       "    </tr>\n",
       "    <tr>\n",
       "      <th>623</th>\n",
       "      <td>1970-05</td>\n",
       "      <td>76.55</td>\n",
       "      <td>-0.0610</td>\n",
       "      <td>0.0810</td>\n",
       "    </tr>\n",
       "    <tr>\n",
       "      <th>622</th>\n",
       "      <td>1970-06</td>\n",
       "      <td>72.72</td>\n",
       "      <td>-0.0500</td>\n",
       "      <td>0.0810</td>\n",
       "    </tr>\n",
       "    <tr>\n",
       "      <th>...</th>\n",
       "      <td>...</td>\n",
       "      <td>...</td>\n",
       "      <td>...</td>\n",
       "      <td>...</td>\n",
       "    </tr>\n",
       "    <tr>\n",
       "      <th>4</th>\n",
       "      <td>2021-12</td>\n",
       "      <td>4766.18</td>\n",
       "      <td>0.0436</td>\n",
       "      <td>0.2689</td>\n",
       "    </tr>\n",
       "    <tr>\n",
       "      <th>3</th>\n",
       "      <td>2022-01</td>\n",
       "      <td>4515.55</td>\n",
       "      <td>-0.0526</td>\n",
       "      <td>0.2157</td>\n",
       "    </tr>\n",
       "    <tr>\n",
       "      <th>2</th>\n",
       "      <td>2022-02</td>\n",
       "      <td>4373.79</td>\n",
       "      <td>-0.0314</td>\n",
       "      <td>0.1476</td>\n",
       "    </tr>\n",
       "    <tr>\n",
       "      <th>1</th>\n",
       "      <td>2022-03</td>\n",
       "      <td>4530.41</td>\n",
       "      <td>0.0358</td>\n",
       "      <td>0.1403</td>\n",
       "    </tr>\n",
       "    <tr>\n",
       "      <th>0</th>\n",
       "      <td>2022-04</td>\n",
       "      <td>4457.30</td>\n",
       "      <td>-0.0161</td>\n",
       "      <td>0.0660</td>\n",
       "    </tr>\n",
       "  </tbody>\n",
       "</table>\n",
       "<p>627 rows × 4 columns</p>\n",
       "</div>"
      ],
      "text/plain": [
       "        Date    Value  ChangePercentMonth  ChangePercentYear\n",
       "626  1970-02    89.50              0.0015             0.0810\n",
       "625  1970-03    89.63              0.0015             0.0810\n",
       "624  1970-04    81.52             -0.0905             0.0810\n",
       "623  1970-05    76.55             -0.0610             0.0810\n",
       "622  1970-06    72.72             -0.0500             0.0810\n",
       "..       ...      ...                 ...                ...\n",
       "4    2021-12  4766.18              0.0436             0.2689\n",
       "3    2022-01  4515.55             -0.0526             0.2157\n",
       "2    2022-02  4373.79             -0.0314             0.1476\n",
       "1    2022-03  4530.41              0.0358             0.1403\n",
       "0    2022-04  4457.30             -0.0161             0.0660\n",
       "\n",
       "[627 rows x 4 columns]"
      ]
     },
     "execution_count": 127,
     "metadata": {},
     "output_type": "execute_result"
    }
   ],
   "source": [
    "sp_data_clean"
   ]
  },
  {
   "cell_type": "code",
   "execution_count": 128,
   "metadata": {
    "cell_id": "9050a4bdad4d406b80a00edb0305e31d",
    "deepnote_cell_height": 752.875,
    "deepnote_cell_type": "code",
    "deepnote_output_heights": [
     565.609375
    ],
    "deepnote_to_be_reexecuted": false,
    "execution_millis": 490,
    "execution_start": 1650727307121,
    "source_hash": "14e31ee6",
    "tags": []
   },
   "outputs": [
    {
     "data": {
      "image/png": "[encoded data removed]",
      "text/plain": [
       "<Figure size 1500x1000 with 1 Axes>"
      ]
     },
     "metadata": {},
     "output_type": "display_data"
    }
   ],
   "source": [
    "# Plot S&P500 time series graph\n",
    "plt.figure(figsize=(15,10))\n",
    "plt.xticks(np.arange(0, 2000, 120)) # show x-axis ticks at every 10 years\n",
    "plt.yticks(np.arange(0, 5000, 500)) # show y-axis ticks at every $500\n",
    "plt.plot(sp_data_clean['Date'], sp_data_clean['Value'])\n",
    "plt.show()"
   ]
  },
  {
   "cell_type": "markdown",
   "metadata": {
    "cell_id": "2207840efc084e78af411355af255571",
    "deepnote_cell_height": 190.046875,
    "deepnote_cell_type": "markdown",
    "tags": []
   },
   "source": [
    "## 1.8. Bitcoin Price"
   ]
  },
  {
   "cell_type": "code",
   "execution_count": 129,
   "metadata": {
    "cell_id": "d89b2e673ecb412999c8e11e712ee618",
    "deepnote_cell_height": 447.96875,
    "deepnote_cell_type": "code",
    "deepnote_to_be_reexecuted": false,
    "execution_millis": 32,
    "execution_start": 1650727146392,
    "source_hash": "39118460",
    "tags": []
   },
   "outputs": [
    {
     "data": {
      "text/html": [
       "<div>\n",
       "<style scoped>\n",
       "    .dataframe tbody tr th:only-of-type {\n",
       "        vertical-align: middle;\n",
       "    }\n",
       "\n",
       "    .dataframe tbody tr th {\n",
       "        vertical-align: top;\n",
       "    }\n",
       "\n",
       "    .dataframe thead th {\n",
       "        text-align: right;\n",
       "    }\n",
       "</style>\n",
       "<table border=\"1\" class=\"dataframe\">\n",
       "  <thead>\n",
       "    <tr style=\"text-align: right;\">\n",
       "      <th></th>\n",
       "      <th>Date</th>\n",
       "      <th>Open</th>\n",
       "      <th>High</th>\n",
       "      <th>Low</th>\n",
       "      <th>Close</th>\n",
       "      <th>Adj Close</th>\n",
       "      <th>Volume</th>\n",
       "    </tr>\n",
       "  </thead>\n",
       "  <tbody>\n",
       "    <tr>\n",
       "      <th>0</th>\n",
       "      <td>2014-10-01</td>\n",
       "      <td>387.427002</td>\n",
       "      <td>411.697998</td>\n",
       "      <td>289.295990</td>\n",
       "      <td>338.321014</td>\n",
       "      <td>338.321014</td>\n",
       "      <td>902994450</td>\n",
       "    </tr>\n",
       "    <tr>\n",
       "      <th>1</th>\n",
       "      <td>2014-11-01</td>\n",
       "      <td>338.649994</td>\n",
       "      <td>457.092987</td>\n",
       "      <td>320.626007</td>\n",
       "      <td>378.046997</td>\n",
       "      <td>378.046997</td>\n",
       "      <td>659733360</td>\n",
       "    </tr>\n",
       "    <tr>\n",
       "      <th>2</th>\n",
       "      <td>2014-12-01</td>\n",
       "      <td>378.248993</td>\n",
       "      <td>384.037994</td>\n",
       "      <td>304.231995</td>\n",
       "      <td>320.192993</td>\n",
       "      <td>320.192993</td>\n",
       "      <td>553102310</td>\n",
       "    </tr>\n",
       "    <tr>\n",
       "      <th>3</th>\n",
       "      <td>2015-01-01</td>\n",
       "      <td>320.434998</td>\n",
       "      <td>320.434998</td>\n",
       "      <td>171.509995</td>\n",
       "      <td>217.464005</td>\n",
       "      <td>217.464005</td>\n",
       "      <td>1098811912</td>\n",
       "    </tr>\n",
       "    <tr>\n",
       "      <th>4</th>\n",
       "      <td>2015-02-01</td>\n",
       "      <td>216.867004</td>\n",
       "      <td>265.610992</td>\n",
       "      <td>212.014999</td>\n",
       "      <td>254.263000</td>\n",
       "      <td>254.263000</td>\n",
       "      <td>711518700</td>\n",
       "    </tr>\n",
       "  </tbody>\n",
       "</table>\n",
       "</div>"
      ],
      "text/plain": [
       "         Date        Open        High         Low       Close   Adj Close  \\\n",
       "0  2014-10-01  387.427002  411.697998  289.295990  338.321014  338.321014   \n",
       "1  2014-11-01  338.649994  457.092987  320.626007  378.046997  378.046997   \n",
       "2  2014-12-01  378.248993  384.037994  304.231995  320.192993  320.192993   \n",
       "3  2015-01-01  320.434998  320.434998  171.509995  217.464005  217.464005   \n",
       "4  2015-02-01  216.867004  265.610992  212.014999  254.263000  254.263000   \n",
       "\n",
       "       Volume  \n",
       "0   902994450  \n",
       "1   659733360  \n",
       "2   553102310  \n",
       "3  1098811912  \n",
       "4   711518700  "
      ]
     },
     "execution_count": 129,
     "metadata": {},
     "output_type": "execute_result"
    }
   ],
   "source": [
    "# Import bitcoin data and see the head\n",
    "bitcoin_data = pd.read_csv(\"bitcoin_monthly_data.csv\")\n",
    "bitcoin_data.head()"
   ]
  },
  {
   "cell_type": "code",
   "execution_count": 130,
   "metadata": {
    "cell_id": "8e11ed6febd44b76a5e032b4d9f94ba7",
    "deepnote_cell_height": 136.4375,
    "deepnote_cell_type": "code",
    "deepnote_output_heights": [
     21.171875
    ],
    "deepnote_to_be_reexecuted": false,
    "execution_millis": 37447681,
    "execution_start": 1650727146431,
    "source_hash": "e3d3574",
    "tags": []
   },
   "outputs": [
    {
     "data": {
      "text/plain": [
       "(92, 7)"
      ]
     },
     "execution_count": 130,
     "metadata": {},
     "output_type": "execute_result"
    }
   ],
   "source": [
    "# Look at the shape of our data\n",
    "bitcoin_data.shape"
   ]
  },
  {
   "cell_type": "code",
   "execution_count": 131,
   "metadata": {
    "cell_id": "96a8b41cc2ee48ec8880bbdce42ae894",
    "deepnote_cell_height": 744.25,
    "deepnote_cell_type": "code",
    "deepnote_table_loading": false,
    "deepnote_table_state": {
     "filters": [],
     "pageIndex": 0,
     "pageSize": 10,
     "sortBy": []
    },
    "deepnote_to_be_reexecuted": false,
    "execution_millis": 8,
    "execution_start": 1650727146466,
    "source_hash": "9009f6c2",
    "tags": []
   },
   "outputs": [
    {
     "data": {
      "text/html": [
       "<div>\n",
       "<style scoped>\n",
       "    .dataframe tbody tr th:only-of-type {\n",
       "        vertical-align: middle;\n",
       "    }\n",
       "\n",
       "    .dataframe tbody tr th {\n",
       "        vertical-align: top;\n",
       "    }\n",
       "\n",
       "    .dataframe thead th {\n",
       "        text-align: right;\n",
       "    }\n",
       "</style>\n",
       "<table border=\"1\" class=\"dataframe\">\n",
       "  <thead>\n",
       "    <tr style=\"text-align: right;\">\n",
       "      <th></th>\n",
       "      <th>Date</th>\n",
       "      <th>Value</th>\n",
       "      <th>ChangePercentMonth</th>\n",
       "      <th>ChangePercentYear</th>\n",
       "    </tr>\n",
       "  </thead>\n",
       "  <tbody>\n",
       "    <tr>\n",
       "      <th>0</th>\n",
       "      <td>2014-10</td>\n",
       "      <td>350.496994</td>\n",
       "      <td>NaN</td>\n",
       "      <td>NaN</td>\n",
       "    </tr>\n",
       "    <tr>\n",
       "      <th>1</th>\n",
       "      <td>2014-11</td>\n",
       "      <td>388.859497</td>\n",
       "      <td>0.1095</td>\n",
       "      <td>NaN</td>\n",
       "    </tr>\n",
       "    <tr>\n",
       "      <th>2</th>\n",
       "      <td>2014-12</td>\n",
       "      <td>344.134995</td>\n",
       "      <td>-0.1150</td>\n",
       "      <td>NaN</td>\n",
       "    </tr>\n",
       "    <tr>\n",
       "      <th>3</th>\n",
       "      <td>2015-01</td>\n",
       "      <td>245.972497</td>\n",
       "      <td>-0.2852</td>\n",
       "      <td>NaN</td>\n",
       "    </tr>\n",
       "    <tr>\n",
       "      <th>4</th>\n",
       "      <td>2015-02</td>\n",
       "      <td>238.812995</td>\n",
       "      <td>-0.0291</td>\n",
       "      <td>NaN</td>\n",
       "    </tr>\n",
       "    <tr>\n",
       "      <th>...</th>\n",
       "      <td>...</td>\n",
       "      <td>...</td>\n",
       "      <td>...</td>\n",
       "      <td>...</td>\n",
       "    </tr>\n",
       "    <tr>\n",
       "      <th>87</th>\n",
       "      <td>2022-01</td>\n",
       "      <td>40532.732422</td>\n",
       "      <td>-0.2046</td>\n",
       "      <td>0.1471</td>\n",
       "    </tr>\n",
       "    <tr>\n",
       "      <th>88</th>\n",
       "      <td>2022-02</td>\n",
       "      <td>40060.195312</td>\n",
       "      <td>-0.0117</td>\n",
       "      <td>-0.1168</td>\n",
       "    </tr>\n",
       "    <tr>\n",
       "      <th>89</th>\n",
       "      <td>2022-03</td>\n",
       "      <td>42673.519532</td>\n",
       "      <td>0.0652</td>\n",
       "      <td>-0.2009</td>\n",
       "    </tr>\n",
       "    <tr>\n",
       "      <th>90</th>\n",
       "      <td>2022-04</td>\n",
       "      <td>43004.833985</td>\n",
       "      <td>0.0078</td>\n",
       "      <td>-0.2322</td>\n",
       "    </tr>\n",
       "    <tr>\n",
       "      <th>91</th>\n",
       "      <td>2022-04</td>\n",
       "      <td>40506.048829</td>\n",
       "      <td>-0.0581</td>\n",
       "      <td>-0.1019</td>\n",
       "    </tr>\n",
       "  </tbody>\n",
       "</table>\n",
       "<p>92 rows × 4 columns</p>\n",
       "</div>"
      ],
      "text/plain": [
       "       Date         Value  ChangePercentMonth  ChangePercentYear\n",
       "0   2014-10    350.496994                 NaN                NaN\n",
       "1   2014-11    388.859497              0.1095                NaN\n",
       "2   2014-12    344.134995             -0.1150                NaN\n",
       "3   2015-01    245.972497             -0.2852                NaN\n",
       "4   2015-02    238.812995             -0.0291                NaN\n",
       "..      ...           ...                 ...                ...\n",
       "87  2022-01  40532.732422             -0.2046             0.1471\n",
       "88  2022-02  40060.195312             -0.0117            -0.1168\n",
       "89  2022-03  42673.519532              0.0652            -0.2009\n",
       "90  2022-04  43004.833985              0.0078            -0.2322\n",
       "91  2022-04  40506.048829             -0.0581            -0.1019\n",
       "\n",
       "[92 rows x 4 columns]"
      ]
     },
     "execution_count": 131,
     "metadata": {},
     "output_type": "execute_result"
    }
   ],
   "source": [
    "# Clean bitcoin data to where price is now the average between the high and low prices for the month\n",
    "bitcoin_data['Value'] = (bitcoin_data['High'] + bitcoin_data['Low']) / 2\n",
    "bitcoin_data_clean = pd.DataFrame(bitcoin_data[['Date','Value']])\n",
    "# Clean bitcoin data to have date in %Y-%m format\n",
    "bitcoin_data_clean = df_dates_monthly(bitcoin_data_clean)\n",
    "# Clean data to have monthly and yearly percentage changes\n",
    "bitcoin_data_clean = df_change_percent(bitcoin_data_clean)\n",
    "# Show cleaned data\n",
    "bitcoin_data_clean"
   ]
  },
  {
   "cell_type": "code",
   "execution_count": 132,
   "metadata": {},
   "outputs": [
    {
     "name": "stderr",
     "output_type": "stream",
     "text": [
      "C:\\Users\\Suryanshu Choudhary\\AppData\\Local\\Temp\\ipykernel_9564\\3199213467.py:1: FutureWarning: DataFrame.fillna with 'method' is deprecated and will raise in a future version. Use obj.ffill() or obj.bfill() instead.\n",
      "  bitcoin_data_clean = bitcoin_data_clean.fillna(method='bfill')\n"
     ]
    }
   ],
   "source": [
    "bitcoin_data_clean = bitcoin_data_clean.fillna(method='bfill')"
   ]
  },
  {
   "cell_type": "code",
   "execution_count": 133,
   "metadata": {},
   "outputs": [
    {
     "data": {
      "text/plain": [
       "0"
      ]
     },
     "execution_count": 133,
     "metadata": {},
     "output_type": "execute_result"
    }
   ],
   "source": [
    "bitcoin_data_clean.isnull().sum().sum()"
   ]
  },
  {
   "cell_type": "code",
   "execution_count": 134,
   "metadata": {
    "cell_id": "3f3113f95f1f473ab42412f55ad4eb22",
    "deepnote_cell_height": 731.09375,
    "deepnote_cell_type": "code",
    "deepnote_output_heights": [
     561.8125
    ],
    "deepnote_to_be_reexecuted": false,
    "execution_millis": 817,
    "execution_start": 1650727146523,
    "source_hash": "596237a6",
    "tags": []
   },
   "outputs": [
    {
     "data": {
      "image/png": "[encoded data removed]",
      "text/plain": [
       "<Figure size 1500x1000 with 1 Axes>"
      ]
     },
     "metadata": {},
     "output_type": "display_data"
    }
   ],
   "source": [
    "# Plot the bitcoin time series graph (of bitcoin price over time)\n",
    "plt.figure(figsize=(15,10))\n",
    "plt.xticks(np.arange(0, 100, 12)) # show x-axis ticks at every one year\n",
    "plt.plot(bitcoin_data_clean['Date'], bitcoin_data_clean['Value'])\n",
    "plt.show()"
   ]
  },
  {
   "cell_type": "markdown",
   "metadata": {
    "cell_id": "bcddf14c36894d03b6f6660c33468604",
    "deepnote_cell_height": 122.90625,
    "deepnote_cell_type": "markdown",
    "tags": []
   },
   "source": [
    "# Export to CSV"
   ]
  },
  {
   "cell_type": "code",
   "execution_count": 140,
   "metadata": {
    "cell_id": "89e8ff0b0c8b4365b1d51ec412aad8c7",
    "deepnote_cell_height": 261.15625,
    "deepnote_cell_type": "code",
    "deepnote_to_be_reexecuted": false,
    "execution_millis": 88,
    "execution_start": 1650727147296,
    "owner_user_id": "8e732588-5d01-4915-906d-8bc412c76e3b",
    "source_hash": "68b52d60",
    "tags": []
   },
   "outputs": [],
   "source": [
    "# Export to CSV\n",
    "cpi_data_clean.to_csv('cleaned_cpi.csv', index=False)\n",
    "bie_clean.to_csv('cleaned_bie.csv', index=False)\n",
    "oil_clean.to_csv('cleaned_oil.csv', index=False)\n",
    "ppi_data_clean.to_csv('cleaned_ppi.csv', index=False)\n",
    "unemp_data_clean.to_csv('cleaned_unemp.csv', index=False)\n",
    "bitcoin_data_clean.to_csv('cleaned_bitcoin.csv', index=False)\n",
    "neer_data_clean.to_csv('cleaned_neer.csv', index=False)\n",
    "lagged_cpi_data_clean.to_csv('cleaned_lagged_cpi.csv', index=False)\n",
    "sp_data_clean.to_csv('cleaned_sp.csv', index=False)"
   ]
  }
 ],
 "metadata": {
  "deepnote": {},
  "deepnote_execution_queue": [],
  "deepnote_notebook_id": "3a809ddf-5d61-4f36-97c7-c350d530666e",
  "kernelspec": {
   "display_name": "Python 3",
   "language": "python",
   "name": "python3"
  },
  "language_info": {
   "codemirror_mode": {
    "name": "ipython",
    "version": 3
   },
   "file_extension": ".py",
   "mimetype": "text/x-python",
   "name": "python",
   "nbconvert_exporter": "python",
   "pygments_lexer": "ipython3",
   "version": "3.12.1"
  },
  "orig_nbformat": 2
 },
 "nbformat": 4,
 "nbformat_minor": 2
}
