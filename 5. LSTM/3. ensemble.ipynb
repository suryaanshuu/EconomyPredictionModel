{
 "cells": [
  {
   "cell_type": "markdown",
   "metadata": {},
   "source": [
    "# 3. Keras Tuner + Analytical Model Ensembling"
   ]
  },
  {
   "cell_type": "code",
   "execution_count": 28,
   "metadata": {},
   "outputs": [
    {
     "data": {
      "text/plain": [
       "<function keras.src.utils.timeseries_dataset_utils.timeseries_dataset_from_array(data, targets, sequence_length, sequence_stride=1, sampling_rate=1, batch_size=128, shuffle=False, seed=None, start_index=None, end_index=None)>"
      ]
     },
     "execution_count": 28,
     "metadata": {},
     "output_type": "execute_result"
    }
   ],
   "source": [
    "# Import essential libraries\n",
    "import pandas as pd\n",
    "import numpy as np\n",
    "import matplotlib.pyplot as plt\n",
    "from math import sqrt\n",
    "from functools import reduce\n",
    "from pandas import read_csv\n",
    "from matplotlib import pyplot\n",
    "\n",
    "# Import LSTM libraries\n",
    "from sklearn.preprocessing import MinMaxScaler\n",
    "from sklearn.model_selection import train_test_split\n",
    "# from keras.preprocessing.timeseries import TimeseriesGenerator\n",
    "from keras.layers import Dense\n",
    "from keras.layers import LSTM\n",
    "from sklearn.metrics import mean_squared_error\n",
    "import tensorflow as tf \n",
    "tf.keras.preprocessing.timeseries_dataset_from_array"
   ]
  },
  {
   "cell_type": "code",
   "execution_count": 29,
   "metadata": {},
   "outputs": [],
   "source": [
    "# Import all datasets\n",
    "oil_data_clean = pd.read_csv('cleaned_oil.csv')\n",
    "ppi_data_clean = pd.read_csv('cleaned_ppi.csv')\n",
    "unemp_data_clean = pd.read_csv('cleaned_unemp.csv')\n",
    "lcpi_data_clean = pd.read_csv('cleaned_lagged_cpi.csv')\n",
    "cpi_data_clean = pd.read_csv('cleaned_cpi.csv')"
   ]
  },
  {
   "cell_type": "code",
   "execution_count": 30,
   "metadata": {},
   "outputs": [],
   "source": [
    "oil_data_clean.drop(columns = ['ChangePercentYear', 'Value'], axis = 1, inplace = True)\n",
    "ppi_data_clean.drop(columns = ['ChangePercentYear', 'Value'], axis = 1, inplace = True)\n",
    "unemp_data_clean.drop(columns = ['ChangePercentYear', 'Value'], axis = 1, inplace = True)\n",
    "lcpi_data_clean.drop(columns = ['ChangePercentYear', 'Value'], axis = 1, inplace = True)\n",
    "cpi_data_clean.drop(columns = ['ChangePercentYear', 'Value'], axis = 1, inplace = True)"
   ]
  },
  {
   "cell_type": "code",
   "execution_count": 31,
   "metadata": {},
   "outputs": [
    {
     "name": "stderr",
     "output_type": "stream",
     "text": [
      "C:\\Users\\Suryanshu Choudhary\\AppData\\Local\\Temp\\ipykernel_5852\\728974245.py:1: FutureWarning: DataFrame.fillna with 'method' is deprecated and will raise in a future version. Use obj.ffill() or obj.bfill() instead.\n",
      "  cpi_data_clean.fillna(method='bfill')\n",
      "C:\\Users\\Suryanshu Choudhary\\AppData\\Local\\Temp\\ipykernel_5852\\728974245.py:2: FutureWarning: DataFrame.fillna with 'method' is deprecated and will raise in a future version. Use obj.ffill() or obj.bfill() instead.\n",
      "  lcpi_data_clean.fillna(method='bfill')\n",
      "C:\\Users\\Suryanshu Choudhary\\AppData\\Local\\Temp\\ipykernel_5852\\728974245.py:3: FutureWarning: DataFrame.fillna with 'method' is deprecated and will raise in a future version. Use obj.ffill() or obj.bfill() instead.\n",
      "  oil_data_clean.fillna(method='bfill')\n",
      "C:\\Users\\Suryanshu Choudhary\\AppData\\Local\\Temp\\ipykernel_5852\\728974245.py:4: FutureWarning: DataFrame.fillna with 'method' is deprecated and will raise in a future version. Use obj.ffill() or obj.bfill() instead.\n",
      "  ppi_data_clean.fillna(method='bfill')\n",
      "C:\\Users\\Suryanshu Choudhary\\AppData\\Local\\Temp\\ipykernel_5852\\728974245.py:5: FutureWarning: DataFrame.fillna with 'method' is deprecated and will raise in a future version. Use obj.ffill() or obj.bfill() instead.\n",
      "  unemp_data_clean.fillna(method='bfill')\n"
     ]
    },
    {
     "data": {
      "text/html": [
       "<div>\n",
       "<style scoped>\n",
       "    .dataframe tbody tr th:only-of-type {\n",
       "        vertical-align: middle;\n",
       "    }\n",
       "\n",
       "    .dataframe tbody tr th {\n",
       "        vertical-align: top;\n",
       "    }\n",
       "\n",
       "    .dataframe thead th {\n",
       "        text-align: right;\n",
       "    }\n",
       "</style>\n",
       "<table border=\"1\" class=\"dataframe\">\n",
       "  <thead>\n",
       "    <tr style=\"text-align: right;\">\n",
       "      <th></th>\n",
       "      <th>Date</th>\n",
       "      <th>ChangePercentMonth</th>\n",
       "    </tr>\n",
       "  </thead>\n",
       "  <tbody>\n",
       "    <tr>\n",
       "      <th>0</th>\n",
       "      <td>1948-01</td>\n",
       "      <td>0.175000</td>\n",
       "    </tr>\n",
       "    <tr>\n",
       "      <th>1</th>\n",
       "      <td>1948-02</td>\n",
       "      <td>0.175000</td>\n",
       "    </tr>\n",
       "    <tr>\n",
       "      <th>2</th>\n",
       "      <td>1948-03</td>\n",
       "      <td>-0.042553</td>\n",
       "    </tr>\n",
       "    <tr>\n",
       "      <th>3</th>\n",
       "      <td>1948-04</td>\n",
       "      <td>-0.111111</td>\n",
       "    </tr>\n",
       "    <tr>\n",
       "      <th>4</th>\n",
       "      <td>1948-05</td>\n",
       "      <td>-0.150000</td>\n",
       "    </tr>\n",
       "    <tr>\n",
       "      <th>...</th>\n",
       "      <td>...</td>\n",
       "      <td>...</td>\n",
       "    </tr>\n",
       "    <tr>\n",
       "      <th>882</th>\n",
       "      <td>2021-07</td>\n",
       "      <td>-0.065574</td>\n",
       "    </tr>\n",
       "    <tr>\n",
       "      <th>883</th>\n",
       "      <td>2021-08</td>\n",
       "      <td>-0.070175</td>\n",
       "    </tr>\n",
       "    <tr>\n",
       "      <th>884</th>\n",
       "      <td>2021-09</td>\n",
       "      <td>-0.132075</td>\n",
       "    </tr>\n",
       "    <tr>\n",
       "      <th>885</th>\n",
       "      <td>2021-10</td>\n",
       "      <td>-0.065217</td>\n",
       "    </tr>\n",
       "    <tr>\n",
       "      <th>886</th>\n",
       "      <td>2021-11</td>\n",
       "      <td>-0.093023</td>\n",
       "    </tr>\n",
       "  </tbody>\n",
       "</table>\n",
       "<p>887 rows × 2 columns</p>\n",
       "</div>"
      ],
      "text/plain": [
       "        Date  ChangePercentMonth\n",
       "0    1948-01            0.175000\n",
       "1    1948-02            0.175000\n",
       "2    1948-03           -0.042553\n",
       "3    1948-04           -0.111111\n",
       "4    1948-05           -0.150000\n",
       "..       ...                 ...\n",
       "882  2021-07           -0.065574\n",
       "883  2021-08           -0.070175\n",
       "884  2021-09           -0.132075\n",
       "885  2021-10           -0.065217\n",
       "886  2021-11           -0.093023\n",
       "\n",
       "[887 rows x 2 columns]"
      ]
     },
     "execution_count": 31,
     "metadata": {},
     "output_type": "execute_result"
    }
   ],
   "source": [
    "cpi_data_clean.fillna(method='bfill')\n",
    "lcpi_data_clean.fillna(method='bfill')\n",
    "oil_data_clean.fillna(method='bfill')\n",
    "ppi_data_clean.fillna(method='bfill')\n",
    "unemp_data_clean.fillna(method='bfill')"
   ]
  },
  {
   "cell_type": "code",
   "execution_count": 32,
   "metadata": {},
   "outputs": [],
   "source": [
    "oil_data_clean.columns = ['Date','Oil']\n",
    "oil_data_clean.dropna(inplace = True)\n",
    "ppi_data_clean.columns = ['Date','PPI']\n",
    "ppi_data_clean.dropna(inplace = True)\n",
    "unemp_data_clean.columns = ['Date','Unemployment']\n",
    "unemp_data_clean.dropna(inplace = True)\n",
    "lcpi_data_clean.columns = ['Date','LaggedCPI']\n",
    "lcpi_data_clean.dropna(inplace = True)\n",
    "cpi_data_clean.columns = ['Date','CPI']\n",
    "cpi_data_clean.dropna(inplace = True)\n",
    "\n",
    "dataframe_list = [cpi_data_clean, oil_data_clean, ppi_data_clean, unemp_data_clean, lcpi_data_clean]\n",
    "# Join all datasets together\n",
    "df_merged = reduce(lambda  left,right: pd.merge(left,right,on=['Date'], how='inner'), dataframe_list)\n",
    "df_merged.set_index('Date', inplace = True)"
   ]
  },
  {
   "cell_type": "code",
   "execution_count": 33,
   "metadata": {},
   "outputs": [],
   "source": [
    "values = df_merged.values"
   ]
  },
  {
   "cell_type": "code",
   "execution_count": 34,
   "metadata": {},
   "outputs": [
    {
     "data": {
      "text/html": [
       "<div>\n",
       "<style scoped>\n",
       "    .dataframe tbody tr th:only-of-type {\n",
       "        vertical-align: middle;\n",
       "    }\n",
       "\n",
       "    .dataframe tbody tr th {\n",
       "        vertical-align: top;\n",
       "    }\n",
       "\n",
       "    .dataframe thead th {\n",
       "        text-align: right;\n",
       "    }\n",
       "</style>\n",
       "<table border=\"1\" class=\"dataframe\">\n",
       "  <thead>\n",
       "    <tr style=\"text-align: right;\">\n",
       "      <th></th>\n",
       "      <th>CPI</th>\n",
       "      <th>Oil</th>\n",
       "      <th>PPI</th>\n",
       "      <th>Unemployment</th>\n",
       "      <th>LaggedCPI</th>\n",
       "    </tr>\n",
       "    <tr>\n",
       "      <th>Date</th>\n",
       "      <th></th>\n",
       "      <th></th>\n",
       "      <th></th>\n",
       "      <th></th>\n",
       "      <th></th>\n",
       "    </tr>\n",
       "  </thead>\n",
       "  <tbody>\n",
       "    <tr>\n",
       "      <th>1983-04</th>\n",
       "      <td>0.007150</td>\n",
       "      <td>0.046464</td>\n",
       "      <td>0.000000</td>\n",
       "      <td>-0.074074</td>\n",
       "      <td>0.000000</td>\n",
       "    </tr>\n",
       "    <tr>\n",
       "      <th>1983-05</th>\n",
       "      <td>0.006085</td>\n",
       "      <td>-0.012406</td>\n",
       "      <td>0.003984</td>\n",
       "      <td>-0.020000</td>\n",
       "      <td>0.007150</td>\n",
       "    </tr>\n",
       "    <tr>\n",
       "      <th>1983-06</th>\n",
       "      <td>0.003024</td>\n",
       "      <td>0.037355</td>\n",
       "      <td>0.001984</td>\n",
       "      <td>0.040816</td>\n",
       "      <td>0.006085</td>\n",
       "    </tr>\n",
       "    <tr>\n",
       "      <th>1983-07</th>\n",
       "      <td>0.004020</td>\n",
       "      <td>0.019758</td>\n",
       "      <td>0.002970</td>\n",
       "      <td>-0.078431</td>\n",
       "      <td>0.003024</td>\n",
       "    </tr>\n",
       "    <tr>\n",
       "      <th>1983-08</th>\n",
       "      <td>0.003003</td>\n",
       "      <td>-0.012813</td>\n",
       "      <td>0.004936</td>\n",
       "      <td>-0.021277</td>\n",
       "      <td>0.004020</td>\n",
       "    </tr>\n",
       "    <tr>\n",
       "      <th>...</th>\n",
       "      <td>...</td>\n",
       "      <td>...</td>\n",
       "      <td>...</td>\n",
       "      <td>...</td>\n",
       "      <td>...</td>\n",
       "    </tr>\n",
       "    <tr>\n",
       "      <th>2021-07</th>\n",
       "      <td>0.004811</td>\n",
       "      <td>0.006533</td>\n",
       "      <td>0.012888</td>\n",
       "      <td>-0.065574</td>\n",
       "      <td>0.009291</td>\n",
       "    </tr>\n",
       "    <tr>\n",
       "      <th>2021-08</th>\n",
       "      <td>0.002066</td>\n",
       "      <td>-0.073698</td>\n",
       "      <td>0.006750</td>\n",
       "      <td>-0.070175</td>\n",
       "      <td>0.004811</td>\n",
       "    </tr>\n",
       "    <tr>\n",
       "      <th>2021-09</th>\n",
       "      <td>0.002716</td>\n",
       "      <td>0.095328</td>\n",
       "      <td>0.009695</td>\n",
       "      <td>-0.132075</td>\n",
       "      <td>0.002066</td>\n",
       "    </tr>\n",
       "    <tr>\n",
       "      <th>2021-10</th>\n",
       "      <td>0.008308</td>\n",
       "      <td>0.089964</td>\n",
       "      <td>0.020312</td>\n",
       "      <td>-0.065217</td>\n",
       "      <td>0.002716</td>\n",
       "    </tr>\n",
       "    <tr>\n",
       "      <th>2021-11</th>\n",
       "      <td>0.004913</td>\n",
       "      <td>-0.194791</td>\n",
       "      <td>0.011736</td>\n",
       "      <td>-0.093023</td>\n",
       "      <td>0.008308</td>\n",
       "    </tr>\n",
       "  </tbody>\n",
       "</table>\n",
       "<p>464 rows × 5 columns</p>\n",
       "</div>"
      ],
      "text/plain": [
       "              CPI       Oil       PPI  Unemployment  LaggedCPI\n",
       "Date                                                          \n",
       "1983-04  0.007150  0.046464  0.000000     -0.074074   0.000000\n",
       "1983-05  0.006085 -0.012406  0.003984     -0.020000   0.007150\n",
       "1983-06  0.003024  0.037355  0.001984      0.040816   0.006085\n",
       "1983-07  0.004020  0.019758  0.002970     -0.078431   0.003024\n",
       "1983-08  0.003003 -0.012813  0.004936     -0.021277   0.004020\n",
       "...           ...       ...       ...           ...        ...\n",
       "2021-07  0.004811  0.006533  0.012888     -0.065574   0.009291\n",
       "2021-08  0.002066 -0.073698  0.006750     -0.070175   0.004811\n",
       "2021-09  0.002716  0.095328  0.009695     -0.132075   0.002066\n",
       "2021-10  0.008308  0.089964  0.020312     -0.065217   0.002716\n",
       "2021-11  0.004913 -0.194791  0.011736     -0.093023   0.008308\n",
       "\n",
       "[464 rows x 5 columns]"
      ]
     },
     "execution_count": 34,
     "metadata": {},
     "output_type": "execute_result"
    }
   ],
   "source": [
    "# Data Preparation for Ensemble Model\n",
    "df_merged"
   ]
  },
  {
   "cell_type": "code",
   "execution_count": 35,
   "metadata": {},
   "outputs": [
    {
     "data": {
      "text/plain": [
       "CPI             0\n",
       "Oil             0\n",
       "PPI             0\n",
       "Unemployment    0\n",
       "LaggedCPI       0\n",
       "dtype: int64"
      ]
     },
     "execution_count": 35,
     "metadata": {},
     "output_type": "execute_result"
    }
   ],
   "source": [
    "df_merged.isnull().sum()"
   ]
  },
  {
   "cell_type": "code",
   "execution_count": 36,
   "metadata": {},
   "outputs": [],
   "source": [
    "# Splitting the dataset into train and test sets\n",
    "df_train = df_merged.iloc[:357]\n",
    "df_test = df_merged.iloc[357:]"
   ]
  },
  {
   "cell_type": "code",
   "execution_count": 37,
   "metadata": {},
   "outputs": [],
   "source": [
    "# Use MinMaxScaler to normalise are values by scaling down values between a range of -1 to 1\n",
    "# Instantiate scaler objects\n",
    "x_scaler = MinMaxScaler(feature_range=(-1, 1))\n",
    "y_scaler = MinMaxScaler(feature_range=(-1, 1))\n",
    "\n",
    "x_train = x_scaler.fit_transform(df_train[['Oil','PPI','Unemployment','LaggedCPI']])\n",
    "y_train = y_scaler.fit_transform(df_train[['CPI']])\n",
    "\n",
    "x_test = x_scaler.transform(df_test[['Oil','PPI','Unemployment','LaggedCPI']])\n",
    "y_test = y_scaler.transform(df_test[['CPI']])"
   ]
  },
  {
   "cell_type": "code",
   "execution_count": 38,
   "metadata": {},
   "outputs": [
    {
     "name": "stdout",
     "output_type": "stream",
     "text": [
      "(357, 1, 4) (357, 1) (107, 1, 4) (107, 1)\n"
     ]
    }
   ],
   "source": [
    "# reshape input to be 3D [samples, timesteps, features]\n",
    "x_train = x_train.reshape((x_train.shape[0], 1, x_train.shape[1]))\n",
    "x_test = x_test.reshape((x_test.shape[0], 1, x_test.shape[1]))\n",
    "print(x_train.shape, y_train.shape, x_test.shape, y_test.shape)"
   ]
  },
  {
   "cell_type": "code",
   "execution_count": 39,
   "metadata": {},
   "outputs": [
    {
     "name": "stderr",
     "output_type": "stream",
     "text": [
      "WARNING:absl:Compiled the loaded model, but the compiled metrics have yet to be built. `model.compile_metrics` will be empty until you train or evaluate the model.\n"
     ]
    }
   ],
   "source": [
    "# serializable format\n",
    "import tensorflow as tf\n",
    "from tensorflow.keras.models import load_model\n",
    "\n",
    "# Register mse with TensorFlow's saving utilities\n",
    "tf.keras.utils.get_custom_objects().update({'mse': tf.keras.losses.mean_squared_error})\n",
    "\n",
    "# Load the model\n",
    "kerasModel = load_model(\n",
    "    'kerastunermodel.h5', \n",
    "    custom_objects={'MeanSquaredError': tf.keras.metrics.MeanSquaredError}\n",
    ")\n"
   ]
  },
  {
   "cell_type": "code",
   "execution_count": 40,
   "metadata": {},
   "outputs": [
    {
     "name": "stderr",
     "output_type": "stream",
     "text": [
      "WARNING:absl:Compiled the loaded model, but the compiled metrics have yet to be built. `model.compile_metrics` will be empty until you train or evaluate the model.\n"
     ]
    }
   ],
   "source": [
    "handcraftedModel = load_model('multivariate.h5')"
   ]
  },
  {
   "cell_type": "code",
   "execution_count": 41,
   "metadata": {},
   "outputs": [
    {
     "name": "stdout",
     "output_type": "stream",
     "text": [
      "Best model is already trained.\n"
     ]
    }
   ],
   "source": [
    "# Checking if kerasModel is already trained or not\n",
    "if kerasModel.get_weights():\n",
    "    print(\"Best model is already trained.\")\n",
    "else:\n",
    "    print(\"Best model needs to be trained.\")"
   ]
  },
  {
   "cell_type": "code",
   "execution_count": 42,
   "metadata": {},
   "outputs": [
    {
     "name": "stdout",
     "output_type": "stream",
     "text": [
      "Best model is already trained.\n"
     ]
    }
   ],
   "source": [
    "# Checking if handcraftedModel is already trained or not\n",
    "if handcraftedModel.get_weights():\n",
    "    print(\"Best model is already trained.\")\n",
    "else:\n",
    "    print(\"Best model needs to be trained.\")"
   ]
  },
  {
   "cell_type": "code",
   "execution_count": 43,
   "metadata": {},
   "outputs": [
    {
     "name": "stdout",
     "output_type": "stream",
     "text": [
      "WARNING:tensorflow:5 out of the last 9 calls to <function TensorFlowTrainer.make_predict_function.<locals>.one_step_on_data_distributed at 0x000001F895DFEC00> triggered tf.function retracing. Tracing is expensive and the excessive number of tracings could be due to (1) creating @tf.function repeatedly in a loop, (2) passing tensors with different shapes, (3) passing Python objects instead of tensors. For (1), please define your @tf.function outside of the loop. For (2), @tf.function has reduce_retracing=True option that can avoid unnecessary retracing. For (3), please refer to https://www.tensorflow.org/guide/function#controlling_retracing and https://www.tensorflow.org/api_docs/python/tf/function for  more details.\n"
     ]
    },
    {
     "name": "stderr",
     "output_type": "stream",
     "text": [
      "WARNING:tensorflow:5 out of the last 9 calls to <function TensorFlowTrainer.make_predict_function.<locals>.one_step_on_data_distributed at 0x000001F895DFEC00> triggered tf.function retracing. Tracing is expensive and the excessive number of tracings could be due to (1) creating @tf.function repeatedly in a loop, (2) passing tensors with different shapes, (3) passing Python objects instead of tensors. For (1), please define your @tf.function outside of the loop. For (2), @tf.function has reduce_retracing=True option that can avoid unnecessary retracing. For (3), please refer to https://www.tensorflow.org/guide/function#controlling_retracing and https://www.tensorflow.org/api_docs/python/tf/function for  more details.\n"
     ]
    },
    {
     "name": "stdout",
     "output_type": "stream",
     "text": [
      "\u001b[1m1/4\u001b[0m \u001b[32m━━━━━\u001b[0m\u001b[37m━━━━━━━━━━━━━━━\u001b[0m \u001b[1m1s\u001b[0m 402ms/stepWARNING:tensorflow:6 out of the last 12 calls to <function TensorFlowTrainer.make_predict_function.<locals>.one_step_on_data_distributed at 0x000001F895DFEC00> triggered tf.function retracing. Tracing is expensive and the excessive number of tracings could be due to (1) creating @tf.function repeatedly in a loop, (2) passing tensors with different shapes, (3) passing Python objects instead of tensors. For (1), please define your @tf.function outside of the loop. For (2), @tf.function has reduce_retracing=True option that can avoid unnecessary retracing. For (3), please refer to https://www.tensorflow.org/guide/function#controlling_retracing and https://www.tensorflow.org/api_docs/python/tf/function for  more details.\n"
     ]
    },
    {
     "name": "stderr",
     "output_type": "stream",
     "text": [
      "WARNING:tensorflow:6 out of the last 12 calls to <function TensorFlowTrainer.make_predict_function.<locals>.one_step_on_data_distributed at 0x000001F895DFEC00> triggered tf.function retracing. Tracing is expensive and the excessive number of tracings could be due to (1) creating @tf.function repeatedly in a loop, (2) passing tensors with different shapes, (3) passing Python objects instead of tensors. For (1), please define your @tf.function outside of the loop. For (2), @tf.function has reduce_retracing=True option that can avoid unnecessary retracing. For (3), please refer to https://www.tensorflow.org/guide/function#controlling_retracing and https://www.tensorflow.org/api_docs/python/tf/function for  more details.\n"
     ]
    },
    {
     "name": "stdout",
     "output_type": "stream",
     "text": [
      "\u001b[1m4/4\u001b[0m \u001b[32m━━━━━━━━━━━━━━━━━━━━\u001b[0m\u001b[37m\u001b[0m \u001b[1m1s\u001b[0m 83ms/step\n",
      "\u001b[1m4/4\u001b[0m \u001b[32m━━━━━━━━━━━━━━━━━━━━\u001b[0m\u001b[37m\u001b[0m \u001b[1m1s\u001b[0m 83ms/step\n"
     ]
    }
   ],
   "source": [
    "# Get predictions from the kerasModel\n",
    "tuner_pred = kerasModel.predict(x_test)\n",
    "\n",
    "# Get predictions from handcraftedModel\n",
    "own_pred = handcraftedModel.predict(x_test)"
   ]
  },
  {
   "cell_type": "markdown",
   "metadata": {},
   "source": [
    "## Weighted Average Ensembling Method"
   ]
  },
  {
   "cell_type": "code",
   "execution_count": 58,
   "metadata": {},
   "outputs": [],
   "source": [
    "tuner_weight = 0.5\n",
    "own_weight = 0.5\n",
    "\n",
    "ensemble_pred = (tuner_pred * tuner_weight) + (own_pred * own_weight)"
   ]
  },
  {
   "cell_type": "code",
   "execution_count": 61,
   "metadata": {},
   "outputs": [
    {
     "name": "stdout",
     "output_type": "stream",
     "text": [
      "Ensemble RMSE: 0.40578708079398434\n",
      "Ensemble MAE: 0.3616907778858559\n"
     ]
    }
   ],
   "source": [
    "# Calculate RMSE\n",
    "mse = mean_squared_error(df_test['CPI'], ensemble_pred)\n",
    "rmse = sqrt(mse)\n",
    "print('Ensemble RMSE:', rmse)\n",
    "\n",
    "# Calculate MAE\n",
    "mae = mean_absolute_error(df_test['CPI'], ensemble_pred)\n",
    "print('Ensemble MAE:', mae)"
   ]
  }
 ],
 "metadata": {
  "kernelspec": {
   "display_name": "Python 3",
   "language": "python",
   "name": "python3"
  },
  "language_info": {
   "codemirror_mode": {
    "name": "ipython",
    "version": 3
   },
   "file_extension": ".py",
   "mimetype": "text/x-python",
   "name": "python",
   "nbconvert_exporter": "python",
   "pygments_lexer": "ipython3",
   "version": "3.12.1"
  }
 },
 "nbformat": 4,
 "nbformat_minor": 2
}
